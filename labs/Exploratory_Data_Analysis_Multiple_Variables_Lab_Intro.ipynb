{
  "metadata": {
    "orig_nbformat": 4,
    "language_info": {
      "name": "python",
      "version": "3.7.12",
      "mimetype": "text/x-python",
      "codemirror_mode": {
        "name": "ipython",
        "version": 3
      },
      "pygments_lexer": "ipython3",
      "nbconvert_exporter": "python",
      "file_extension": ".py"
    },
    "kernelspec": {
      "name": "python3",
      "display_name": "Python 3 (ipykernel)",
      "language": "python"
    },
    "colab": {
      "provenance": []
    }
  },
  "nbformat_minor": 5,
  "nbformat": 4,
  "cells": [
    {
      "cell_type": "markdown",
      "source": [
        "# Exploratory Data Analysis: Multiple Variables"
      ],
      "metadata": {
        "id": "eede7fe4-98b5-4d22-b3fe-4e3db9b395c2"
      },
      "id": "eede7fe4-98b5-4d22-b3fe-4e3db9b395c2"
    },
    {
      "cell_type": "markdown",
      "source": [
        "### Intro and objectives:\n",
        "\n",
        "#### review methods to explore the distribution of multiple variables"
      ],
      "metadata": {
        "id": "39f20e66-be20-42e0-a51f-6aec8054a2e6"
      },
      "id": "39f20e66-be20-42e0-a51f-6aec8054a2e6"
    },
    {
      "cell_type": "markdown",
      "source": [
        "### In this lab you will learn:\n",
        "1.  How to explore the distribution of multiple variables\n"
      ],
      "metadata": {
        "id": "da725a69-037b-4d60-8ca7-76ec70842cbe"
      },
      "id": "da725a69-037b-4d60-8ca7-76ec70842cbe"
    },
    {
      "cell_type": "markdown",
      "source": [
        "## 0. Let's import required libraries and load some data\n"
      ],
      "metadata": {
        "id": "2b683786-9c34-48b1-b545-7712dbb6528d"
      },
      "id": "2b683786-9c34-48b1-b545-7712dbb6528d"
    },
    {
      "cell_type": "code",
      "source": [
        "import pandas as pd\n",
        "import seaborn as sns\n",
        "import matplotlib.pyplot as plt\n",
        "import numpy as np\n",
        "import scipy as sp\n",
        "from scipy import stats"
      ],
      "metadata": {
        "trusted": true,
        "id": "af35c4c7-e581-4140-a4b5-f47beb5f64d5"
      },
      "execution_count": 66,
      "outputs": [],
      "id": "af35c4c7-e581-4140-a4b5-f47beb5f64d5"
    },
    {
      "cell_type": "code",
      "source": [
        "happinessReport = pd.read_csv('https://raw.githubusercontent.com/thousandoaks/Maths4DS101/main/data/world-happiness-report.csv',parse_dates=['year'])"
      ],
      "metadata": {
        "trusted": true,
        "id": "85c82379-65b6-47c8-a00a-bdacadb9f92e"
      },
      "execution_count": 67,
      "outputs": [],
      "id": "85c82379-65b6-47c8-a00a-bdacadb9f92e"
    },
    {
      "cell_type": "code",
      "source": [
        "happinessReport.head()"
      ],
      "metadata": {
        "trusted": true,
        "id": "a12023c6-9d67-4806-bcb5-430006c6def1",
        "outputId": "588ff000-146f-474e-a8e4-0080a6ec4eeb",
        "colab": {
          "base_uri": "https://localhost:8080/",
          "height": 354
        }
      },
      "execution_count": 68,
      "outputs": [
        {
          "output_type": "execute_result",
          "data": {
            "text/plain": [
              "  Country name       year  Life Ladder  Log GDP per capita  Social support  \\\n",
              "0  Afghanistan 2008-01-01        3.724               7.370           0.451   \n",
              "1  Afghanistan 2009-01-01        4.402               7.540           0.552   \n",
              "2  Afghanistan 2010-01-01        4.758               7.647           0.539   \n",
              "3  Afghanistan 2011-01-01        3.832               7.620           0.521   \n",
              "4  Afghanistan 2012-01-01        3.783               7.705           0.521   \n",
              "\n",
              "   Healthy life expectancy at birth  Freedom to make life choices  Generosity  \\\n",
              "0                             50.80                         0.718       0.168   \n",
              "1                             51.20                         0.679       0.190   \n",
              "2                             51.60                         0.600       0.121   \n",
              "3                             51.92                         0.496       0.162   \n",
              "4                             52.24                         0.531       0.236   \n",
              "\n",
              "   Perceptions of corruption  Positive affect  Negative affect  \n",
              "0                      0.882            0.518            0.258  \n",
              "1                      0.850            0.584            0.237  \n",
              "2                      0.707            0.618            0.275  \n",
              "3                      0.731            0.611            0.267  \n",
              "4                      0.776            0.710            0.268  "
            ],
            "text/html": [
              "\n",
              "  <div id=\"df-de822221-2a15-4a8d-b818-d12ffdb034a3\">\n",
              "    <div class=\"colab-df-container\">\n",
              "      <div>\n",
              "<style scoped>\n",
              "    .dataframe tbody tr th:only-of-type {\n",
              "        vertical-align: middle;\n",
              "    }\n",
              "\n",
              "    .dataframe tbody tr th {\n",
              "        vertical-align: top;\n",
              "    }\n",
              "\n",
              "    .dataframe thead th {\n",
              "        text-align: right;\n",
              "    }\n",
              "</style>\n",
              "<table border=\"1\" class=\"dataframe\">\n",
              "  <thead>\n",
              "    <tr style=\"text-align: right;\">\n",
              "      <th></th>\n",
              "      <th>Country name</th>\n",
              "      <th>year</th>\n",
              "      <th>Life Ladder</th>\n",
              "      <th>Log GDP per capita</th>\n",
              "      <th>Social support</th>\n",
              "      <th>Healthy life expectancy at birth</th>\n",
              "      <th>Freedom to make life choices</th>\n",
              "      <th>Generosity</th>\n",
              "      <th>Perceptions of corruption</th>\n",
              "      <th>Positive affect</th>\n",
              "      <th>Negative affect</th>\n",
              "    </tr>\n",
              "  </thead>\n",
              "  <tbody>\n",
              "    <tr>\n",
              "      <th>0</th>\n",
              "      <td>Afghanistan</td>\n",
              "      <td>2008-01-01</td>\n",
              "      <td>3.724</td>\n",
              "      <td>7.370</td>\n",
              "      <td>0.451</td>\n",
              "      <td>50.80</td>\n",
              "      <td>0.718</td>\n",
              "      <td>0.168</td>\n",
              "      <td>0.882</td>\n",
              "      <td>0.518</td>\n",
              "      <td>0.258</td>\n",
              "    </tr>\n",
              "    <tr>\n",
              "      <th>1</th>\n",
              "      <td>Afghanistan</td>\n",
              "      <td>2009-01-01</td>\n",
              "      <td>4.402</td>\n",
              "      <td>7.540</td>\n",
              "      <td>0.552</td>\n",
              "      <td>51.20</td>\n",
              "      <td>0.679</td>\n",
              "      <td>0.190</td>\n",
              "      <td>0.850</td>\n",
              "      <td>0.584</td>\n",
              "      <td>0.237</td>\n",
              "    </tr>\n",
              "    <tr>\n",
              "      <th>2</th>\n",
              "      <td>Afghanistan</td>\n",
              "      <td>2010-01-01</td>\n",
              "      <td>4.758</td>\n",
              "      <td>7.647</td>\n",
              "      <td>0.539</td>\n",
              "      <td>51.60</td>\n",
              "      <td>0.600</td>\n",
              "      <td>0.121</td>\n",
              "      <td>0.707</td>\n",
              "      <td>0.618</td>\n",
              "      <td>0.275</td>\n",
              "    </tr>\n",
              "    <tr>\n",
              "      <th>3</th>\n",
              "      <td>Afghanistan</td>\n",
              "      <td>2011-01-01</td>\n",
              "      <td>3.832</td>\n",
              "      <td>7.620</td>\n",
              "      <td>0.521</td>\n",
              "      <td>51.92</td>\n",
              "      <td>0.496</td>\n",
              "      <td>0.162</td>\n",
              "      <td>0.731</td>\n",
              "      <td>0.611</td>\n",
              "      <td>0.267</td>\n",
              "    </tr>\n",
              "    <tr>\n",
              "      <th>4</th>\n",
              "      <td>Afghanistan</td>\n",
              "      <td>2012-01-01</td>\n",
              "      <td>3.783</td>\n",
              "      <td>7.705</td>\n",
              "      <td>0.521</td>\n",
              "      <td>52.24</td>\n",
              "      <td>0.531</td>\n",
              "      <td>0.236</td>\n",
              "      <td>0.776</td>\n",
              "      <td>0.710</td>\n",
              "      <td>0.268</td>\n",
              "    </tr>\n",
              "  </tbody>\n",
              "</table>\n",
              "</div>\n",
              "      <button class=\"colab-df-convert\" onclick=\"convertToInteractive('df-de822221-2a15-4a8d-b818-d12ffdb034a3')\"\n",
              "              title=\"Convert this dataframe to an interactive table.\"\n",
              "              style=\"display:none;\">\n",
              "        \n",
              "  <svg xmlns=\"http://www.w3.org/2000/svg\" height=\"24px\"viewBox=\"0 0 24 24\"\n",
              "       width=\"24px\">\n",
              "    <path d=\"M0 0h24v24H0V0z\" fill=\"none\"/>\n",
              "    <path d=\"M18.56 5.44l.94 2.06.94-2.06 2.06-.94-2.06-.94-.94-2.06-.94 2.06-2.06.94zm-11 1L8.5 8.5l.94-2.06 2.06-.94-2.06-.94L8.5 2.5l-.94 2.06-2.06.94zm10 10l.94 2.06.94-2.06 2.06-.94-2.06-.94-.94-2.06-.94 2.06-2.06.94z\"/><path d=\"M17.41 7.96l-1.37-1.37c-.4-.4-.92-.59-1.43-.59-.52 0-1.04.2-1.43.59L10.3 9.45l-7.72 7.72c-.78.78-.78 2.05 0 2.83L4 21.41c.39.39.9.59 1.41.59.51 0 1.02-.2 1.41-.59l7.78-7.78 2.81-2.81c.8-.78.8-2.07 0-2.86zM5.41 20L4 18.59l7.72-7.72 1.47 1.35L5.41 20z\"/>\n",
              "  </svg>\n",
              "      </button>\n",
              "      \n",
              "  <style>\n",
              "    .colab-df-container {\n",
              "      display:flex;\n",
              "      flex-wrap:wrap;\n",
              "      gap: 12px;\n",
              "    }\n",
              "\n",
              "    .colab-df-convert {\n",
              "      background-color: #E8F0FE;\n",
              "      border: none;\n",
              "      border-radius: 50%;\n",
              "      cursor: pointer;\n",
              "      display: none;\n",
              "      fill: #1967D2;\n",
              "      height: 32px;\n",
              "      padding: 0 0 0 0;\n",
              "      width: 32px;\n",
              "    }\n",
              "\n",
              "    .colab-df-convert:hover {\n",
              "      background-color: #E2EBFA;\n",
              "      box-shadow: 0px 1px 2px rgba(60, 64, 67, 0.3), 0px 1px 3px 1px rgba(60, 64, 67, 0.15);\n",
              "      fill: #174EA6;\n",
              "    }\n",
              "\n",
              "    [theme=dark] .colab-df-convert {\n",
              "      background-color: #3B4455;\n",
              "      fill: #D2E3FC;\n",
              "    }\n",
              "\n",
              "    [theme=dark] .colab-df-convert:hover {\n",
              "      background-color: #434B5C;\n",
              "      box-shadow: 0px 1px 3px 1px rgba(0, 0, 0, 0.15);\n",
              "      filter: drop-shadow(0px 1px 2px rgba(0, 0, 0, 0.3));\n",
              "      fill: #FFFFFF;\n",
              "    }\n",
              "  </style>\n",
              "\n",
              "      <script>\n",
              "        const buttonEl =\n",
              "          document.querySelector('#df-de822221-2a15-4a8d-b818-d12ffdb034a3 button.colab-df-convert');\n",
              "        buttonEl.style.display =\n",
              "          google.colab.kernel.accessAllowed ? 'block' : 'none';\n",
              "\n",
              "        async function convertToInteractive(key) {\n",
              "          const element = document.querySelector('#df-de822221-2a15-4a8d-b818-d12ffdb034a3');\n",
              "          const dataTable =\n",
              "            await google.colab.kernel.invokeFunction('convertToInteractive',\n",
              "                                                     [key], {});\n",
              "          if (!dataTable) return;\n",
              "\n",
              "          const docLinkHtml = 'Like what you see? Visit the ' +\n",
              "            '<a target=\"_blank\" href=https://colab.research.google.com/notebooks/data_table.ipynb>data table notebook</a>'\n",
              "            + ' to learn more about interactive tables.';\n",
              "          element.innerHTML = '';\n",
              "          dataTable['output_type'] = 'display_data';\n",
              "          await google.colab.output.renderOutput(dataTable, element);\n",
              "          const docLink = document.createElement('div');\n",
              "          docLink.innerHTML = docLinkHtml;\n",
              "          element.appendChild(docLink);\n",
              "        }\n",
              "      </script>\n",
              "    </div>\n",
              "  </div>\n",
              "  "
            ]
          },
          "metadata": {},
          "execution_count": 68
        }
      ],
      "id": "a12023c6-9d67-4806-bcb5-430006c6def1"
    },
    {
      "cell_type": "code",
      "source": [
        "happinessReport.describe()"
      ],
      "metadata": {
        "colab": {
          "base_uri": "https://localhost:8080/",
          "height": 362
        },
        "id": "wGNk--hPZr3f",
        "outputId": "558a465f-a342-4703-9659-c4d1bb687306"
      },
      "id": "wGNk--hPZr3f",
      "execution_count": 69,
      "outputs": [
        {
          "output_type": "execute_result",
          "data": {
            "text/plain": [
              "       Life Ladder  Log GDP per capita  Social support  \\\n",
              "count  1949.000000         1913.000000     1936.000000   \n",
              "mean      5.466705            9.368453        0.812552   \n",
              "std       1.115711            1.154084        0.118482   \n",
              "min       2.375000            6.635000        0.290000   \n",
              "25%       4.640000            8.464000        0.749750   \n",
              "50%       5.386000            9.460000        0.835500   \n",
              "75%       6.283000           10.353000        0.905000   \n",
              "max       8.019000           11.648000        0.987000   \n",
              "\n",
              "       Healthy life expectancy at birth  Freedom to make life choices  \\\n",
              "count                       1894.000000                   1917.000000   \n",
              "mean                          63.359374                      0.742558   \n",
              "std                            7.510245                      0.142093   \n",
              "min                           32.300000                      0.258000   \n",
              "25%                           58.685000                      0.647000   \n",
              "50%                           65.200000                      0.763000   \n",
              "75%                           68.590000                      0.856000   \n",
              "max                           77.100000                      0.985000   \n",
              "\n",
              "        Generosity  Perceptions of corruption  Positive affect  \\\n",
              "count  1860.000000                1839.000000      1927.000000   \n",
              "mean      0.000103                   0.747125         0.710003   \n",
              "std       0.162215                   0.186789         0.107100   \n",
              "min      -0.335000                   0.035000         0.322000   \n",
              "25%      -0.113000                   0.690000         0.625500   \n",
              "50%      -0.025500                   0.802000         0.722000   \n",
              "75%       0.091000                   0.872000         0.799000   \n",
              "max       0.698000                   0.983000         0.944000   \n",
              "\n",
              "       Negative affect  \n",
              "count      1933.000000  \n",
              "mean          0.268544  \n",
              "std           0.085168  \n",
              "min           0.083000  \n",
              "25%           0.206000  \n",
              "50%           0.258000  \n",
              "75%           0.320000  \n",
              "max           0.705000  "
            ],
            "text/html": [
              "\n",
              "  <div id=\"df-390d4e07-65b8-41d6-a85f-a0b9eeddec5e\">\n",
              "    <div class=\"colab-df-container\">\n",
              "      <div>\n",
              "<style scoped>\n",
              "    .dataframe tbody tr th:only-of-type {\n",
              "        vertical-align: middle;\n",
              "    }\n",
              "\n",
              "    .dataframe tbody tr th {\n",
              "        vertical-align: top;\n",
              "    }\n",
              "\n",
              "    .dataframe thead th {\n",
              "        text-align: right;\n",
              "    }\n",
              "</style>\n",
              "<table border=\"1\" class=\"dataframe\">\n",
              "  <thead>\n",
              "    <tr style=\"text-align: right;\">\n",
              "      <th></th>\n",
              "      <th>Life Ladder</th>\n",
              "      <th>Log GDP per capita</th>\n",
              "      <th>Social support</th>\n",
              "      <th>Healthy life expectancy at birth</th>\n",
              "      <th>Freedom to make life choices</th>\n",
              "      <th>Generosity</th>\n",
              "      <th>Perceptions of corruption</th>\n",
              "      <th>Positive affect</th>\n",
              "      <th>Negative affect</th>\n",
              "    </tr>\n",
              "  </thead>\n",
              "  <tbody>\n",
              "    <tr>\n",
              "      <th>count</th>\n",
              "      <td>1949.000000</td>\n",
              "      <td>1913.000000</td>\n",
              "      <td>1936.000000</td>\n",
              "      <td>1894.000000</td>\n",
              "      <td>1917.000000</td>\n",
              "      <td>1860.000000</td>\n",
              "      <td>1839.000000</td>\n",
              "      <td>1927.000000</td>\n",
              "      <td>1933.000000</td>\n",
              "    </tr>\n",
              "    <tr>\n",
              "      <th>mean</th>\n",
              "      <td>5.466705</td>\n",
              "      <td>9.368453</td>\n",
              "      <td>0.812552</td>\n",
              "      <td>63.359374</td>\n",
              "      <td>0.742558</td>\n",
              "      <td>0.000103</td>\n",
              "      <td>0.747125</td>\n",
              "      <td>0.710003</td>\n",
              "      <td>0.268544</td>\n",
              "    </tr>\n",
              "    <tr>\n",
              "      <th>std</th>\n",
              "      <td>1.115711</td>\n",
              "      <td>1.154084</td>\n",
              "      <td>0.118482</td>\n",
              "      <td>7.510245</td>\n",
              "      <td>0.142093</td>\n",
              "      <td>0.162215</td>\n",
              "      <td>0.186789</td>\n",
              "      <td>0.107100</td>\n",
              "      <td>0.085168</td>\n",
              "    </tr>\n",
              "    <tr>\n",
              "      <th>min</th>\n",
              "      <td>2.375000</td>\n",
              "      <td>6.635000</td>\n",
              "      <td>0.290000</td>\n",
              "      <td>32.300000</td>\n",
              "      <td>0.258000</td>\n",
              "      <td>-0.335000</td>\n",
              "      <td>0.035000</td>\n",
              "      <td>0.322000</td>\n",
              "      <td>0.083000</td>\n",
              "    </tr>\n",
              "    <tr>\n",
              "      <th>25%</th>\n",
              "      <td>4.640000</td>\n",
              "      <td>8.464000</td>\n",
              "      <td>0.749750</td>\n",
              "      <td>58.685000</td>\n",
              "      <td>0.647000</td>\n",
              "      <td>-0.113000</td>\n",
              "      <td>0.690000</td>\n",
              "      <td>0.625500</td>\n",
              "      <td>0.206000</td>\n",
              "    </tr>\n",
              "    <tr>\n",
              "      <th>50%</th>\n",
              "      <td>5.386000</td>\n",
              "      <td>9.460000</td>\n",
              "      <td>0.835500</td>\n",
              "      <td>65.200000</td>\n",
              "      <td>0.763000</td>\n",
              "      <td>-0.025500</td>\n",
              "      <td>0.802000</td>\n",
              "      <td>0.722000</td>\n",
              "      <td>0.258000</td>\n",
              "    </tr>\n",
              "    <tr>\n",
              "      <th>75%</th>\n",
              "      <td>6.283000</td>\n",
              "      <td>10.353000</td>\n",
              "      <td>0.905000</td>\n",
              "      <td>68.590000</td>\n",
              "      <td>0.856000</td>\n",
              "      <td>0.091000</td>\n",
              "      <td>0.872000</td>\n",
              "      <td>0.799000</td>\n",
              "      <td>0.320000</td>\n",
              "    </tr>\n",
              "    <tr>\n",
              "      <th>max</th>\n",
              "      <td>8.019000</td>\n",
              "      <td>11.648000</td>\n",
              "      <td>0.987000</td>\n",
              "      <td>77.100000</td>\n",
              "      <td>0.985000</td>\n",
              "      <td>0.698000</td>\n",
              "      <td>0.983000</td>\n",
              "      <td>0.944000</td>\n",
              "      <td>0.705000</td>\n",
              "    </tr>\n",
              "  </tbody>\n",
              "</table>\n",
              "</div>\n",
              "      <button class=\"colab-df-convert\" onclick=\"convertToInteractive('df-390d4e07-65b8-41d6-a85f-a0b9eeddec5e')\"\n",
              "              title=\"Convert this dataframe to an interactive table.\"\n",
              "              style=\"display:none;\">\n",
              "        \n",
              "  <svg xmlns=\"http://www.w3.org/2000/svg\" height=\"24px\"viewBox=\"0 0 24 24\"\n",
              "       width=\"24px\">\n",
              "    <path d=\"M0 0h24v24H0V0z\" fill=\"none\"/>\n",
              "    <path d=\"M18.56 5.44l.94 2.06.94-2.06 2.06-.94-2.06-.94-.94-2.06-.94 2.06-2.06.94zm-11 1L8.5 8.5l.94-2.06 2.06-.94-2.06-.94L8.5 2.5l-.94 2.06-2.06.94zm10 10l.94 2.06.94-2.06 2.06-.94-2.06-.94-.94-2.06-.94 2.06-2.06.94z\"/><path d=\"M17.41 7.96l-1.37-1.37c-.4-.4-.92-.59-1.43-.59-.52 0-1.04.2-1.43.59L10.3 9.45l-7.72 7.72c-.78.78-.78 2.05 0 2.83L4 21.41c.39.39.9.59 1.41.59.51 0 1.02-.2 1.41-.59l7.78-7.78 2.81-2.81c.8-.78.8-2.07 0-2.86zM5.41 20L4 18.59l7.72-7.72 1.47 1.35L5.41 20z\"/>\n",
              "  </svg>\n",
              "      </button>\n",
              "      \n",
              "  <style>\n",
              "    .colab-df-container {\n",
              "      display:flex;\n",
              "      flex-wrap:wrap;\n",
              "      gap: 12px;\n",
              "    }\n",
              "\n",
              "    .colab-df-convert {\n",
              "      background-color: #E8F0FE;\n",
              "      border: none;\n",
              "      border-radius: 50%;\n",
              "      cursor: pointer;\n",
              "      display: none;\n",
              "      fill: #1967D2;\n",
              "      height: 32px;\n",
              "      padding: 0 0 0 0;\n",
              "      width: 32px;\n",
              "    }\n",
              "\n",
              "    .colab-df-convert:hover {\n",
              "      background-color: #E2EBFA;\n",
              "      box-shadow: 0px 1px 2px rgba(60, 64, 67, 0.3), 0px 1px 3px 1px rgba(60, 64, 67, 0.15);\n",
              "      fill: #174EA6;\n",
              "    }\n",
              "\n",
              "    [theme=dark] .colab-df-convert {\n",
              "      background-color: #3B4455;\n",
              "      fill: #D2E3FC;\n",
              "    }\n",
              "\n",
              "    [theme=dark] .colab-df-convert:hover {\n",
              "      background-color: #434B5C;\n",
              "      box-shadow: 0px 1px 3px 1px rgba(0, 0, 0, 0.15);\n",
              "      filter: drop-shadow(0px 1px 2px rgba(0, 0, 0, 0.3));\n",
              "      fill: #FFFFFF;\n",
              "    }\n",
              "  </style>\n",
              "\n",
              "      <script>\n",
              "        const buttonEl =\n",
              "          document.querySelector('#df-390d4e07-65b8-41d6-a85f-a0b9eeddec5e button.colab-df-convert');\n",
              "        buttonEl.style.display =\n",
              "          google.colab.kernel.accessAllowed ? 'block' : 'none';\n",
              "\n",
              "        async function convertToInteractive(key) {\n",
              "          const element = document.querySelector('#df-390d4e07-65b8-41d6-a85f-a0b9eeddec5e');\n",
              "          const dataTable =\n",
              "            await google.colab.kernel.invokeFunction('convertToInteractive',\n",
              "                                                     [key], {});\n",
              "          if (!dataTable) return;\n",
              "\n",
              "          const docLinkHtml = 'Like what you see? Visit the ' +\n",
              "            '<a target=\"_blank\" href=https://colab.research.google.com/notebooks/data_table.ipynb>data table notebook</a>'\n",
              "            + ' to learn more about interactive tables.';\n",
              "          element.innerHTML = '';\n",
              "          dataTable['output_type'] = 'display_data';\n",
              "          await google.colab.output.renderOutput(dataTable, element);\n",
              "          const docLink = document.createElement('div');\n",
              "          docLink.innerHTML = docLinkHtml;\n",
              "          element.appendChild(docLink);\n",
              "        }\n",
              "      </script>\n",
              "    </div>\n",
              "  </div>\n",
              "  "
            ]
          },
          "metadata": {},
          "execution_count": 69
        }
      ]
    },
    {
      "cell_type": "code",
      "source": [
        "# Let's select 4 countries\n",
        "\n",
        "countryFilter=['Mexico','Sweden','China','Afghanistan','Spain']"
      ],
      "metadata": {
        "id": "S4IDIkSGWKBm"
      },
      "id": "S4IDIkSGWKBm",
      "execution_count": 70,
      "outputs": []
    },
    {
      "cell_type": "code",
      "source": [
        "happinessReportFiltered=happinessReport[happinessReport['Country name'].isin(countryFilter)]"
      ],
      "metadata": {
        "id": "kQT-f_aGWl7Q"
      },
      "id": "kQT-f_aGWl7Q",
      "execution_count": 71,
      "outputs": []
    },
    {
      "cell_type": "markdown",
      "source": [
        "### 1. Correlation matrix"
      ],
      "metadata": {
        "id": "4a56cb93-2fea-4161-97c4-48d47a8ecea4"
      },
      "id": "4a56cb93-2fea-4161-97c4-48d47a8ecea4"
    },
    {
      "cell_type": "code",
      "source": [],
      "metadata": {
        "id": "KjGK6KEgOaxW"
      },
      "id": "KjGK6KEgOaxW",
      "execution_count": 71,
      "outputs": []
    },
    {
      "cell_type": "markdown",
      "source": [
        "#### Pandas provides a convenient method to compute the correlation matrix\n"
      ],
      "metadata": {
        "id": "687b4a15-2619-48ef-95d5-47522c82f5e9"
      },
      "id": "687b4a15-2619-48ef-95d5-47522c82f5e9"
    },
    {
      "cell_type": "code",
      "source": [
        "happinessReportFiltered.columns"
      ],
      "metadata": {
        "trusted": true,
        "id": "d6cc25df-0ed3-4da4-8e46-09957b5ac313",
        "outputId": "1519de50-a7df-4322-e904-e318b0e646c1",
        "colab": {
          "base_uri": "https://localhost:8080/"
        }
      },
      "execution_count": 72,
      "outputs": [
        {
          "output_type": "execute_result",
          "data": {
            "text/plain": [
              "Index(['Country name', 'year', 'Life Ladder', 'Log GDP per capita',\n",
              "       'Social support', 'Healthy life expectancy at birth',\n",
              "       'Freedom to make life choices', 'Generosity',\n",
              "       'Perceptions of corruption', 'Positive affect', 'Negative affect'],\n",
              "      dtype='object')"
            ]
          },
          "metadata": {},
          "execution_count": 72
        }
      ],
      "id": "d6cc25df-0ed3-4da4-8e46-09957b5ac313"
    },
    {
      "cell_type": "code",
      "source": [
        "happinessReportFiltered[['Life Ladder','Log GDP per capita','Healthy life expectancy at birth']].corr()"
      ],
      "metadata": {
        "id": "1bQtkMUPho9c",
        "colab": {
          "base_uri": "https://localhost:8080/",
          "height": 143
        },
        "outputId": "95fbe1b8-c027-407d-9f53-3ceca9886fa3"
      },
      "id": "1bQtkMUPho9c",
      "execution_count": 73,
      "outputs": [
        {
          "output_type": "execute_result",
          "data": {
            "text/plain": [
              "                                  Life Ladder  Log GDP per capita  \\\n",
              "Life Ladder                          1.000000            0.913259   \n",
              "Log GDP per capita                   0.913259            1.000000   \n",
              "Healthy life expectancy at birth     0.801538            0.946612   \n",
              "\n",
              "                                  Healthy life expectancy at birth  \n",
              "Life Ladder                                               0.801538  \n",
              "Log GDP per capita                                        0.946612  \n",
              "Healthy life expectancy at birth                          1.000000  "
            ],
            "text/html": [
              "\n",
              "  <div id=\"df-68fce0e0-11b3-41fc-b118-3f58b08137ab\">\n",
              "    <div class=\"colab-df-container\">\n",
              "      <div>\n",
              "<style scoped>\n",
              "    .dataframe tbody tr th:only-of-type {\n",
              "        vertical-align: middle;\n",
              "    }\n",
              "\n",
              "    .dataframe tbody tr th {\n",
              "        vertical-align: top;\n",
              "    }\n",
              "\n",
              "    .dataframe thead th {\n",
              "        text-align: right;\n",
              "    }\n",
              "</style>\n",
              "<table border=\"1\" class=\"dataframe\">\n",
              "  <thead>\n",
              "    <tr style=\"text-align: right;\">\n",
              "      <th></th>\n",
              "      <th>Life Ladder</th>\n",
              "      <th>Log GDP per capita</th>\n",
              "      <th>Healthy life expectancy at birth</th>\n",
              "    </tr>\n",
              "  </thead>\n",
              "  <tbody>\n",
              "    <tr>\n",
              "      <th>Life Ladder</th>\n",
              "      <td>1.000000</td>\n",
              "      <td>0.913259</td>\n",
              "      <td>0.801538</td>\n",
              "    </tr>\n",
              "    <tr>\n",
              "      <th>Log GDP per capita</th>\n",
              "      <td>0.913259</td>\n",
              "      <td>1.000000</td>\n",
              "      <td>0.946612</td>\n",
              "    </tr>\n",
              "    <tr>\n",
              "      <th>Healthy life expectancy at birth</th>\n",
              "      <td>0.801538</td>\n",
              "      <td>0.946612</td>\n",
              "      <td>1.000000</td>\n",
              "    </tr>\n",
              "  </tbody>\n",
              "</table>\n",
              "</div>\n",
              "      <button class=\"colab-df-convert\" onclick=\"convertToInteractive('df-68fce0e0-11b3-41fc-b118-3f58b08137ab')\"\n",
              "              title=\"Convert this dataframe to an interactive table.\"\n",
              "              style=\"display:none;\">\n",
              "        \n",
              "  <svg xmlns=\"http://www.w3.org/2000/svg\" height=\"24px\"viewBox=\"0 0 24 24\"\n",
              "       width=\"24px\">\n",
              "    <path d=\"M0 0h24v24H0V0z\" fill=\"none\"/>\n",
              "    <path d=\"M18.56 5.44l.94 2.06.94-2.06 2.06-.94-2.06-.94-.94-2.06-.94 2.06-2.06.94zm-11 1L8.5 8.5l.94-2.06 2.06-.94-2.06-.94L8.5 2.5l-.94 2.06-2.06.94zm10 10l.94 2.06.94-2.06 2.06-.94-2.06-.94-.94-2.06-.94 2.06-2.06.94z\"/><path d=\"M17.41 7.96l-1.37-1.37c-.4-.4-.92-.59-1.43-.59-.52 0-1.04.2-1.43.59L10.3 9.45l-7.72 7.72c-.78.78-.78 2.05 0 2.83L4 21.41c.39.39.9.59 1.41.59.51 0 1.02-.2 1.41-.59l7.78-7.78 2.81-2.81c.8-.78.8-2.07 0-2.86zM5.41 20L4 18.59l7.72-7.72 1.47 1.35L5.41 20z\"/>\n",
              "  </svg>\n",
              "      </button>\n",
              "      \n",
              "  <style>\n",
              "    .colab-df-container {\n",
              "      display:flex;\n",
              "      flex-wrap:wrap;\n",
              "      gap: 12px;\n",
              "    }\n",
              "\n",
              "    .colab-df-convert {\n",
              "      background-color: #E8F0FE;\n",
              "      border: none;\n",
              "      border-radius: 50%;\n",
              "      cursor: pointer;\n",
              "      display: none;\n",
              "      fill: #1967D2;\n",
              "      height: 32px;\n",
              "      padding: 0 0 0 0;\n",
              "      width: 32px;\n",
              "    }\n",
              "\n",
              "    .colab-df-convert:hover {\n",
              "      background-color: #E2EBFA;\n",
              "      box-shadow: 0px 1px 2px rgba(60, 64, 67, 0.3), 0px 1px 3px 1px rgba(60, 64, 67, 0.15);\n",
              "      fill: #174EA6;\n",
              "    }\n",
              "\n",
              "    [theme=dark] .colab-df-convert {\n",
              "      background-color: #3B4455;\n",
              "      fill: #D2E3FC;\n",
              "    }\n",
              "\n",
              "    [theme=dark] .colab-df-convert:hover {\n",
              "      background-color: #434B5C;\n",
              "      box-shadow: 0px 1px 3px 1px rgba(0, 0, 0, 0.15);\n",
              "      filter: drop-shadow(0px 1px 2px rgba(0, 0, 0, 0.3));\n",
              "      fill: #FFFFFF;\n",
              "    }\n",
              "  </style>\n",
              "\n",
              "      <script>\n",
              "        const buttonEl =\n",
              "          document.querySelector('#df-68fce0e0-11b3-41fc-b118-3f58b08137ab button.colab-df-convert');\n",
              "        buttonEl.style.display =\n",
              "          google.colab.kernel.accessAllowed ? 'block' : 'none';\n",
              "\n",
              "        async function convertToInteractive(key) {\n",
              "          const element = document.querySelector('#df-68fce0e0-11b3-41fc-b118-3f58b08137ab');\n",
              "          const dataTable =\n",
              "            await google.colab.kernel.invokeFunction('convertToInteractive',\n",
              "                                                     [key], {});\n",
              "          if (!dataTable) return;\n",
              "\n",
              "          const docLinkHtml = 'Like what you see? Visit the ' +\n",
              "            '<a target=\"_blank\" href=https://colab.research.google.com/notebooks/data_table.ipynb>data table notebook</a>'\n",
              "            + ' to learn more about interactive tables.';\n",
              "          element.innerHTML = '';\n",
              "          dataTable['output_type'] = 'display_data';\n",
              "          await google.colab.output.renderOutput(dataTable, element);\n",
              "          const docLink = document.createElement('div');\n",
              "          docLink.innerHTML = docLinkHtml;\n",
              "          element.appendChild(docLink);\n",
              "        }\n",
              "      </script>\n",
              "    </div>\n",
              "  </div>\n",
              "  "
            ]
          },
          "metadata": {},
          "execution_count": 73
        }
      ]
    },
    {
      "cell_type": "code",
      "source": [],
      "metadata": {
        "id": "2G7eAi7WROEG"
      },
      "id": "2G7eAi7WROEG",
      "execution_count": 73,
      "outputs": []
    },
    {
      "cell_type": "markdown",
      "source": [
        "### 2. Heatmaps\n",
        "\n",
        "#### Seaborn provides a convenient method to compute the correlation matrix\n"
      ],
      "metadata": {
        "id": "RZs4goQnRyEs"
      },
      "id": "RZs4goQnRyEs"
    },
    {
      "cell_type": "code",
      "source": [
        "correlationMatrix=happinessReportFiltered[['Freedom to make life choices','Life Ladder','Log GDP per capita','Healthy life expectancy at birth','Perceptions of corruption','Positive affect']].corr()"
      ],
      "metadata": {
        "id": "1F0UJaASROBm"
      },
      "id": "1F0UJaASROBm",
      "execution_count": 74,
      "outputs": []
    },
    {
      "cell_type": "code",
      "source": [
        "# Generate a mask for the upper triangle\n",
        "mask = np.triu(np.ones_like(correlationMatrix, dtype=bool))\n",
        "\n",
        "# Set up the matplotlib figure\n",
        "f, ax = plt.subplots(figsize=(11, 9))\n",
        "\n",
        "# Generate a custom diverging colormap\n",
        "cmap = sns.diverging_palette(230, 20, as_cmap=True)\n",
        "\n",
        "# Draw the heatmap with the mask and correct aspect ratio\n",
        "sns.heatmap(correlationMatrix, mask=mask, cmap=cmap, vmax=.3, center=0,\n",
        "            square=True, linewidths=.5, cbar_kws={\"shrink\": .5},annot=True)"
      ],
      "metadata": {
        "colab": {
          "base_uri": "https://localhost:8080/",
          "height": 703
        },
        "id": "CES8IE9WRN_B",
        "outputId": "dafc5a2e-6711-464a-c69e-4e3d2f1983f9"
      },
      "id": "CES8IE9WRN_B",
      "execution_count": 75,
      "outputs": [
        {
          "output_type": "execute_result",
          "data": {
            "text/plain": [
              "<matplotlib.axes._subplots.AxesSubplot at 0x7f9b38296610>"
            ]
          },
          "metadata": {},
          "execution_count": 75
        },
        {
          "output_type": "display_data",
          "data": {
            "text/plain": [
              "<Figure size 792x648 with 2 Axes>"
            ],
            "image/png": "[encoded data removed]"
          },
          "metadata": {
            "needs_background": "light"
          }
        }
      ]
    },
    {
      "cell_type": "code",
      "source": [],
      "metadata": {
        "id": "vo2Ut0H_RN3b"
      },
      "id": "vo2Ut0H_RN3b",
      "execution_count": 75,
      "outputs": []
    },
    {
      "cell_type": "code",
      "source": [],
      "metadata": {
        "id": "Ntg5B7XxRN0r"
      },
      "id": "Ntg5B7XxRN0r",
      "execution_count": 75,
      "outputs": []
    },
    {
      "cell_type": "markdown",
      "source": [
        "### 3. ScatterPlots\n",
        "#### ScattePlots are incredibly useful!"
      ],
      "metadata": {
        "id": "lEQEacrNXxrZ"
      },
      "id": "lEQEacrNXxrZ"
    },
    {
      "cell_type": "markdown",
      "source": [
        "#### There are several alternatives to compute histograms in Python:\n",
        "\n",
        "#### 1. Using Pandas\n",
        "#### 2. Using seaborn"
      ],
      "metadata": {
        "id": "7yC9o-cOYCl6"
      },
      "id": "7yC9o-cOYCl6"
    },
    {
      "cell_type": "code",
      "source": [
        "happinessReportFiltered.plot(x='Log GDP per capita',    y='Healthy life expectancy at birth',    kind='scatter')"
      ],
      "metadata": {
        "id": "2ehJg9zhDcZB",
        "colab": {
          "base_uri": "https://localhost:8080/",
          "height": 297
        },
        "outputId": "1fed6cc2-2891-435e-b161-e1a9bc0a43e7"
      },
      "id": "2ehJg9zhDcZB",
      "execution_count": 76,
      "outputs": [
        {
          "output_type": "execute_result",
          "data": {
            "text/plain": [
              "<matplotlib.axes._subplots.AxesSubplot at 0x7f9b37a7ec10>"
            ]
          },
          "metadata": {},
          "execution_count": 76
        },
        {
          "output_type": "display_data",
          "data": {
            "text/plain": [
              "<Figure size 432x288 with 1 Axes>"
            ],
            "image/png": "[encoded data removed]"
          },
          "metadata": {
            "needs_background": "light"
          }
        }
      ]
    },
    {
      "cell_type": "code",
      "source": [
        "happinessReportFiltered.plot(x='Log GDP per capita',    y='Perceptions of corruption',    kind='scatter')"
      ],
      "metadata": {
        "colab": {
          "base_uri": "https://localhost:8080/",
          "height": 297
        },
        "id": "9LOpLLisVMjV",
        "outputId": "8831a3d5-74f6-475d-b5c6-5cc4af70e778"
      },
      "id": "9LOpLLisVMjV",
      "execution_count": 77,
      "outputs": [
        {
          "output_type": "execute_result",
          "data": {
            "text/plain": [
              "<matplotlib.axes._subplots.AxesSubplot at 0x7f9b37292d10>"
            ]
          },
          "metadata": {},
          "execution_count": 77
        },
        {
          "output_type": "display_data",
          "data": {
            "text/plain": [
              "<Figure size 432x288 with 1 Axes>"
            ],
            "image/png": "[encoded data removed]"
          },
          "metadata": {
            "needs_background": "light"
          }
        }
      ]
    },
    {
      "cell_type": "code",
      "source": [],
      "metadata": {
        "id": "JOeyVVdKVMhL"
      },
      "id": "JOeyVVdKVMhL",
      "execution_count": 77,
      "outputs": []
    },
    {
      "cell_type": "code",
      "source": [],
      "metadata": {
        "id": "PwgPszSCVMeh"
      },
      "id": "PwgPszSCVMeh",
      "execution_count": 77,
      "outputs": []
    },
    {
      "cell_type": "code",
      "source": [],
      "metadata": {
        "id": "riwcLyXjVMbw"
      },
      "id": "riwcLyXjVMbw",
      "execution_count": 77,
      "outputs": []
    },
    {
      "cell_type": "markdown",
      "source": [
        "### 4. Box Plots\n",
        "#### Box Plots are quite useful to summarize visually the distribution of a variable\n"
      ],
      "metadata": {
        "id": "XavSc5U36mRI"
      },
      "id": "XavSc5U36mRI"
    },
    {
      "cell_type": "markdown",
      "source": [
        "#### We recommend using seaborn"
      ],
      "metadata": {
        "id": "HQnmDlq-7WuX"
      },
      "id": "HQnmDlq-7WuX"
    },
    {
      "cell_type": "code",
      "source": [
        "\n",
        "sns.boxplot(data=happinessReportFiltered, x=\"Country name\", y=\"Log GDP per capita\")"
      ],
      "metadata": {
        "colab": {
          "base_uri": "https://localhost:8080/",
          "height": 298
        },
        "id": "c_Lf8GuI7Yy-",
        "outputId": "0024ae62-e6d7-4377-be20-0b04ce5bd89a"
      },
      "id": "c_Lf8GuI7Yy-",
      "execution_count": 78,
      "outputs": [
        {
          "output_type": "execute_result",
          "data": {
            "text/plain": [
              "<matplotlib.axes._subplots.AxesSubplot at 0x7f9b379e6110>"
            ]
          },
          "metadata": {},
          "execution_count": 78
        },
        {
          "output_type": "display_data",
          "data": {
            "text/plain": [
              "<Figure size 432x288 with 1 Axes>"
            ],
            "image/png": "[encoded data removed]"
          },
          "metadata": {
            "needs_background": "light"
          }
        }
      ]
    },
    {
      "cell_type": "code",
      "source": [
        "\n",
        "\n",
        "sns.boxplot(data=happinessReportFiltered, x=\"Country name\", y=\"Healthy life expectancy at birth\")"
      ],
      "metadata": {
        "colab": {
          "base_uri": "https://localhost:8080/",
          "height": 297
        },
        "id": "kZoisTH_7862",
        "outputId": "ac9a10f5-126d-43f4-904f-5e3ea71c8b10"
      },
      "id": "kZoisTH_7862",
      "execution_count": 79,
      "outputs": [
        {
          "output_type": "execute_result",
          "data": {
            "text/plain": [
              "<matplotlib.axes._subplots.AxesSubplot at 0x7f9b37153b90>"
            ]
          },
          "metadata": {},
          "execution_count": 79
        },
        {
          "output_type": "display_data",
          "data": {
            "text/plain": [
              "<Figure size 432x288 with 1 Axes>"
            ],
            "image/png": "[encoded data removed]"
          },
          "metadata": {
            "needs_background": "light"
          }
        }
      ]
    },
    {
      "cell_type": "code",
      "source": [
        "sns.boxplot(data=happinessReportFiltered, x=\"Country name\", y=\"Social support\")"
      ],
      "metadata": {
        "colab": {
          "base_uri": "https://localhost:8080/",
          "height": 297
        },
        "id": "YHiMg5itE6cb",
        "outputId": "260a6bdc-3e3c-457b-c2fd-70a708fd0d33"
      },
      "id": "YHiMg5itE6cb",
      "execution_count": 80,
      "outputs": [
        {
          "output_type": "execute_result",
          "data": {
            "text/plain": [
              "<matplotlib.axes._subplots.AxesSubplot at 0x7f9b37031f10>"
            ]
          },
          "metadata": {},
          "execution_count": 80
        },
        {
          "output_type": "display_data",
          "data": {
            "text/plain": [
              "<Figure size 432x288 with 1 Axes>"
            ],
            "image/png": "[encoded data removed]"
          },
          "metadata": {
            "needs_background": "light"
          }
        }
      ]
    },
    {
      "cell_type": "markdown",
      "source": [
        "### 4. Violin Plots\n",
        "#### Violin Plots are also quite useful to summarize visually the distribution of a variable. They are more informative that boxplots.\n"
      ],
      "metadata": {
        "id": "BLjEzEk-Foqg"
      },
      "id": "BLjEzEk-Foqg"
    },
    {
      "cell_type": "code",
      "source": [
        "sns.violinplot(data=happinessReportFiltered, x=\"Country name\", y=\"Log GDP per capita\")"
      ],
      "metadata": {
        "id": "397sdy6NFxKi",
        "outputId": "0978c2f3-0184-4c46-a5e6-5f3422997890",
        "colab": {
          "base_uri": "https://localhost:8080/",
          "height": 297
        }
      },
      "id": "397sdy6NFxKi",
      "execution_count": 81,
      "outputs": [
        {
          "output_type": "execute_result",
          "data": {
            "text/plain": [
              "<matplotlib.axes._subplots.AxesSubplot at 0x7f9b36f7ca50>"
            ]
          },
          "metadata": {},
          "execution_count": 81
        },
        {
          "output_type": "display_data",
          "data": {
            "text/plain": [
              "<Figure size 432x288 with 1 Axes>"
            ],
            "image/png": "[encoded data removed]"
          },
          "metadata": {
            "needs_background": "light"
          }
        }
      ]
    },
    {
      "cell_type": "code",
      "source": [
        "\n",
        "\n",
        "sns.violinplot(data=happinessReportFiltered, x=\"Country name\", y=\"Healthy life expectancy at birth\")"
      ],
      "metadata": {
        "id": "BjLyWTkFF61O",
        "outputId": "2887cbfb-ccae-4d04-a370-6aa7ee4fee5d",
        "colab": {
          "base_uri": "https://localhost:8080/",
          "height": 297
        }
      },
      "id": "BjLyWTkFF61O",
      "execution_count": 82,
      "outputs": [
        {
          "output_type": "execute_result",
          "data": {
            "text/plain": [
              "<matplotlib.axes._subplots.AxesSubplot at 0x7f9b36eb6790>"
            ]
          },
          "metadata": {},
          "execution_count": 82
        },
        {
          "output_type": "display_data",
          "data": {
            "text/plain": [
              "<Figure size 432x288 with 1 Axes>"
            ],
            "image/png": "[encoded data removed]"
          },
          "metadata": {
            "needs_background": "light"
          }
        }
      ]
    },
    {
      "cell_type": "code",
      "source": [
        "sns.violinplot(data=happinessReportFiltered, x=\"Country name\", y=\"Social support\")"
      ],
      "metadata": {
        "colab": {
          "base_uri": "https://localhost:8080/",
          "height": 297
        },
        "id": "k9qD3H3lIALI",
        "outputId": "2e69bc8b-5e58-4510-90bb-53832bc7aea6"
      },
      "id": "k9qD3H3lIALI",
      "execution_count": 83,
      "outputs": [
        {
          "output_type": "execute_result",
          "data": {
            "text/plain": [
              "<matplotlib.axes._subplots.AxesSubplot at 0x7f9b36e4f410>"
            ]
          },
          "metadata": {},
          "execution_count": 83
        },
        {
          "output_type": "display_data",
          "data": {
            "text/plain": [
              "<Figure size 432x288 with 1 Axes>"
            ],
            "image/png": "[encoded data removed]"
          },
          "metadata": {
            "needs_background": "light"
          }
        }
      ]
    },
    {
      "cell_type": "code",
      "source": [],
      "metadata": {
        "id": "wL8bykftIFk1"
      },
      "id": "wL8bykftIFk1",
      "execution_count": 83,
      "outputs": []
    }
  ]
}