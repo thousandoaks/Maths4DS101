{
  "metadata": {
    "orig_nbformat": 4,
    "language_info": {
      "name": "python",
      "version": "3.7.12",
      "mimetype": "text/x-python",
      "codemirror_mode": {
        "name": "ipython",
        "version": 3
      },
      "pygments_lexer": "ipython3",
      "nbconvert_exporter": "python",
      "file_extension": ".py"
    },
    "kernelspec": {
      "name": "python3",
      "display_name": "Python 3 (ipykernel)",
      "language": "python"
    },
    "colab": {
      "provenance": []
    }
  },
  "nbformat_minor": 5,
  "nbformat": 4,
  "cells": [
    {
      "cell_type": "markdown",
      "source": [
        "# Exploratory Data Analysis: Continuous Variables"
      ],
      "metadata": {
        "id": "eede7fe4-98b5-4d22-b3fe-4e3db9b395c2"
      },
      "id": "eede7fe4-98b5-4d22-b3fe-4e3db9b395c2"
    },
    {
      "cell_type": "markdown",
      "source": [
        "### Intro and objectives:\n",
        "\n",
        "#### review methods to explore the distribution of continuous data"
      ],
      "metadata": {
        "id": "39f20e66-be20-42e0-a51f-6aec8054a2e6"
      },
      "id": "39f20e66-be20-42e0-a51f-6aec8054a2e6"
    },
    {
      "cell_type": "markdown",
      "source": [
        "### In this lab you will learn:\n",
        "1. How to compute distributions of continuous data\n",
        "2. How to visualize distributions of continuous data\n"
      ],
      "metadata": {
        "id": "da725a69-037b-4d60-8ca7-76ec70842cbe"
      },
      "id": "da725a69-037b-4d60-8ca7-76ec70842cbe"
    },
    {
      "cell_type": "code",
      "source": [],
      "metadata": {
        "id": "b076b9e8-5090-4d5f-a52f-48df4ac4e753"
      },
      "execution_count": 42,
      "outputs": [],
      "id": "b076b9e8-5090-4d5f-a52f-48df4ac4e753"
    },
    {
      "cell_type": "markdown",
      "source": [
        "## 0. Let's import required libraries and load some data\n"
      ],
      "metadata": {
        "id": "2b683786-9c34-48b1-b545-7712dbb6528d"
      },
      "id": "2b683786-9c34-48b1-b545-7712dbb6528d"
    },
    {
      "cell_type": "code",
      "source": [
        "import pandas as pd\n",
        "import seaborn as sns\n",
        "import matplotlib.pyplot as plt\n",
        "import numpy as np\n",
        "import scipy as sp\n",
        "from scipy import stats"
      ],
      "metadata": {
        "trusted": true,
        "id": "af35c4c7-e581-4140-a4b5-f47beb5f64d5"
      },
      "execution_count": 43,
      "outputs": [],
      "id": "af35c4c7-e581-4140-a4b5-f47beb5f64d5"
    },
    {
      "cell_type": "code",
      "source": [
        "happinessReport = pd.read_csv('https://raw.githubusercontent.com/thousandoaks/Maths4DS101/main/data/world-happiness-report.csv',parse_dates=['year'])"
      ],
      "metadata": {
        "trusted": true,
        "id": "85c82379-65b6-47c8-a00a-bdacadb9f92e"
      },
      "execution_count": 44,
      "outputs": [],
      "id": "85c82379-65b6-47c8-a00a-bdacadb9f92e"
    },
    {
      "cell_type": "code",
      "source": [
        "happinessReport.head()"
      ],
      "metadata": {
        "trusted": true,
        "id": "a12023c6-9d67-4806-bcb5-430006c6def1",
        "outputId": "564c97f6-85a1-414c-a844-efdea7c203ff",
        "colab": {
          "base_uri": "https://localhost:8080/",
          "height": 250
        }
      },
      "execution_count": 45,
      "outputs": [
        {
          "output_type": "execute_result",
          "data": {
            "text/plain": [
              "  Country name       year  Life Ladder  Log GDP per capita  Social support  \\\n",
              "0  Afghanistan 2008-01-01        3.724               7.370           0.451   \n",
              "1  Afghanistan 2009-01-01        4.402               7.540           0.552   \n",
              "2  Afghanistan 2010-01-01        4.758               7.647           0.539   \n",
              "3  Afghanistan 2011-01-01        3.832               7.620           0.521   \n",
              "4  Afghanistan 2012-01-01        3.783               7.705           0.521   \n",
              "\n",
              "   Healthy life expectancy at birth  Freedom to make life choices  Generosity  \\\n",
              "0                             50.80                         0.718       0.168   \n",
              "1                             51.20                         0.679       0.190   \n",
              "2                             51.60                         0.600       0.121   \n",
              "3                             51.92                         0.496       0.162   \n",
              "4                             52.24                         0.531       0.236   \n",
              "\n",
              "   Perceptions of corruption  Positive affect  Negative affect  \n",
              "0                      0.882            0.518            0.258  \n",
              "1                      0.850            0.584            0.237  \n",
              "2                      0.707            0.618            0.275  \n",
              "3                      0.731            0.611            0.267  \n",
              "4                      0.776            0.710            0.268  "
            ],
            "text/html": [
              "\n",
              "  <div id=\"df-08d91016-4fd4-4c2b-b315-dc0dd361fbc2\">\n",
              "    <div class=\"colab-df-container\">\n",
              "      <div>\n",
              "<style scoped>\n",
              "    .dataframe tbody tr th:only-of-type {\n",
              "        vertical-align: middle;\n",
              "    }\n",
              "\n",
              "    .dataframe tbody tr th {\n",
              "        vertical-align: top;\n",
              "    }\n",
              "\n",
              "    .dataframe thead th {\n",
              "        text-align: right;\n",
              "    }\n",
              "</style>\n",
              "<table border=\"1\" class=\"dataframe\">\n",
              "  <thead>\n",
              "    <tr style=\"text-align: right;\">\n",
              "      <th></th>\n",
              "      <th>Country name</th>\n",
              "      <th>year</th>\n",
              "      <th>Life Ladder</th>\n",
              "      <th>Log GDP per capita</th>\n",
              "      <th>Social support</th>\n",
              "      <th>Healthy life expectancy at birth</th>\n",
              "      <th>Freedom to make life choices</th>\n",
              "      <th>Generosity</th>\n",
              "      <th>Perceptions of corruption</th>\n",
              "      <th>Positive affect</th>\n",
              "      <th>Negative affect</th>\n",
              "    </tr>\n",
              "  </thead>\n",
              "  <tbody>\n",
              "    <tr>\n",
              "      <th>0</th>\n",
              "      <td>Afghanistan</td>\n",
              "      <td>2008-01-01</td>\n",
              "      <td>3.724</td>\n",
              "      <td>7.370</td>\n",
              "      <td>0.451</td>\n",
              "      <td>50.80</td>\n",
              "      <td>0.718</td>\n",
              "      <td>0.168</td>\n",
              "      <td>0.882</td>\n",
              "      <td>0.518</td>\n",
              "      <td>0.258</td>\n",
              "    </tr>\n",
              "    <tr>\n",
              "      <th>1</th>\n",
              "      <td>Afghanistan</td>\n",
              "      <td>2009-01-01</td>\n",
              "      <td>4.402</td>\n",
              "      <td>7.540</td>\n",
              "      <td>0.552</td>\n",
              "      <td>51.20</td>\n",
              "      <td>0.679</td>\n",
              "      <td>0.190</td>\n",
              "      <td>0.850</td>\n",
              "      <td>0.584</td>\n",
              "      <td>0.237</td>\n",
              "    </tr>\n",
              "    <tr>\n",
              "      <th>2</th>\n",
              "      <td>Afghanistan</td>\n",
              "      <td>2010-01-01</td>\n",
              "      <td>4.758</td>\n",
              "      <td>7.647</td>\n",
              "      <td>0.539</td>\n",
              "      <td>51.60</td>\n",
              "      <td>0.600</td>\n",
              "      <td>0.121</td>\n",
              "      <td>0.707</td>\n",
              "      <td>0.618</td>\n",
              "      <td>0.275</td>\n",
              "    </tr>\n",
              "    <tr>\n",
              "      <th>3</th>\n",
              "      <td>Afghanistan</td>\n",
              "      <td>2011-01-01</td>\n",
              "      <td>3.832</td>\n",
              "      <td>7.620</td>\n",
              "      <td>0.521</td>\n",
              "      <td>51.92</td>\n",
              "      <td>0.496</td>\n",
              "      <td>0.162</td>\n",
              "      <td>0.731</td>\n",
              "      <td>0.611</td>\n",
              "      <td>0.267</td>\n",
              "    </tr>\n",
              "    <tr>\n",
              "      <th>4</th>\n",
              "      <td>Afghanistan</td>\n",
              "      <td>2012-01-01</td>\n",
              "      <td>3.783</td>\n",
              "      <td>7.705</td>\n",
              "      <td>0.521</td>\n",
              "      <td>52.24</td>\n",
              "      <td>0.531</td>\n",
              "      <td>0.236</td>\n",
              "      <td>0.776</td>\n",
              "      <td>0.710</td>\n",
              "      <td>0.268</td>\n",
              "    </tr>\n",
              "  </tbody>\n",
              "</table>\n",
              "</div>\n",
              "      <button class=\"colab-df-convert\" onclick=\"convertToInteractive('df-08d91016-4fd4-4c2b-b315-dc0dd361fbc2')\"\n",
              "              title=\"Convert this dataframe to an interactive table.\"\n",
              "              style=\"display:none;\">\n",
              "        \n",
              "  <svg xmlns=\"http://www.w3.org/2000/svg\" height=\"24px\"viewBox=\"0 0 24 24\"\n",
              "       width=\"24px\">\n",
              "    <path d=\"M0 0h24v24H0V0z\" fill=\"none\"/>\n",
              "    <path d=\"M18.56 5.44l.94 2.06.94-2.06 2.06-.94-2.06-.94-.94-2.06-.94 2.06-2.06.94zm-11 1L8.5 8.5l.94-2.06 2.06-.94-2.06-.94L8.5 2.5l-.94 2.06-2.06.94zm10 10l.94 2.06.94-2.06 2.06-.94-2.06-.94-.94-2.06-.94 2.06-2.06.94z\"/><path d=\"M17.41 7.96l-1.37-1.37c-.4-.4-.92-.59-1.43-.59-.52 0-1.04.2-1.43.59L10.3 9.45l-7.72 7.72c-.78.78-.78 2.05 0 2.83L4 21.41c.39.39.9.59 1.41.59.51 0 1.02-.2 1.41-.59l7.78-7.78 2.81-2.81c.8-.78.8-2.07 0-2.86zM5.41 20L4 18.59l7.72-7.72 1.47 1.35L5.41 20z\"/>\n",
              "  </svg>\n",
              "      </button>\n",
              "      \n",
              "  <style>\n",
              "    .colab-df-container {\n",
              "      display:flex;\n",
              "      flex-wrap:wrap;\n",
              "      gap: 12px;\n",
              "    }\n",
              "\n",
              "    .colab-df-convert {\n",
              "      background-color: #E8F0FE;\n",
              "      border: none;\n",
              "      border-radius: 50%;\n",
              "      cursor: pointer;\n",
              "      display: none;\n",
              "      fill: #1967D2;\n",
              "      height: 32px;\n",
              "      padding: 0 0 0 0;\n",
              "      width: 32px;\n",
              "    }\n",
              "\n",
              "    .colab-df-convert:hover {\n",
              "      background-color: #E2EBFA;\n",
              "      box-shadow: 0px 1px 2px rgba(60, 64, 67, 0.3), 0px 1px 3px 1px rgba(60, 64, 67, 0.15);\n",
              "      fill: #174EA6;\n",
              "    }\n",
              "\n",
              "    [theme=dark] .colab-df-convert {\n",
              "      background-color: #3B4455;\n",
              "      fill: #D2E3FC;\n",
              "    }\n",
              "\n",
              "    [theme=dark] .colab-df-convert:hover {\n",
              "      background-color: #434B5C;\n",
              "      box-shadow: 0px 1px 3px 1px rgba(0, 0, 0, 0.15);\n",
              "      filter: drop-shadow(0px 1px 2px rgba(0, 0, 0, 0.3));\n",
              "      fill: #FFFFFF;\n",
              "    }\n",
              "  </style>\n",
              "\n",
              "      <script>\n",
              "        const buttonEl =\n",
              "          document.querySelector('#df-08d91016-4fd4-4c2b-b315-dc0dd361fbc2 button.colab-df-convert');\n",
              "        buttonEl.style.display =\n",
              "          google.colab.kernel.accessAllowed ? 'block' : 'none';\n",
              "\n",
              "        async function convertToInteractive(key) {\n",
              "          const element = document.querySelector('#df-08d91016-4fd4-4c2b-b315-dc0dd361fbc2');\n",
              "          const dataTable =\n",
              "            await google.colab.kernel.invokeFunction('convertToInteractive',\n",
              "                                                     [key], {});\n",
              "          if (!dataTable) return;\n",
              "\n",
              "          const docLinkHtml = 'Like what you see? Visit the ' +\n",
              "            '<a target=\"_blank\" href=https://colab.research.google.com/notebooks/data_table.ipynb>data table notebook</a>'\n",
              "            + ' to learn more about interactive tables.';\n",
              "          element.innerHTML = '';\n",
              "          dataTable['output_type'] = 'display_data';\n",
              "          await google.colab.output.renderOutput(dataTable, element);\n",
              "          const docLink = document.createElement('div');\n",
              "          docLink.innerHTML = docLinkHtml;\n",
              "          element.appendChild(docLink);\n",
              "        }\n",
              "      </script>\n",
              "    </div>\n",
              "  </div>\n",
              "  "
            ]
          },
          "metadata": {},
          "execution_count": 45
        }
      ],
      "id": "a12023c6-9d67-4806-bcb5-430006c6def1"
    },
    {
      "cell_type": "code",
      "source": [
        "happinessReport.describe()"
      ],
      "metadata": {
        "colab": {
          "base_uri": "https://localhost:8080/",
          "height": 300
        },
        "id": "wGNk--hPZr3f",
        "outputId": "d099a025-4912-4862-8d62-5341886c0064"
      },
      "id": "wGNk--hPZr3f",
      "execution_count": 46,
      "outputs": [
        {
          "output_type": "execute_result",
          "data": {
            "text/plain": [
              "       Life Ladder  Log GDP per capita  Social support  \\\n",
              "count  1949.000000         1913.000000     1936.000000   \n",
              "mean      5.466705            9.368453        0.812552   \n",
              "std       1.115711            1.154084        0.118482   \n",
              "min       2.375000            6.635000        0.290000   \n",
              "25%       4.640000            8.464000        0.749750   \n",
              "50%       5.386000            9.460000        0.835500   \n",
              "75%       6.283000           10.353000        0.905000   \n",
              "max       8.019000           11.648000        0.987000   \n",
              "\n",
              "       Healthy life expectancy at birth  Freedom to make life choices  \\\n",
              "count                       1894.000000                   1917.000000   \n",
              "mean                          63.359374                      0.742558   \n",
              "std                            7.510245                      0.142093   \n",
              "min                           32.300000                      0.258000   \n",
              "25%                           58.685000                      0.647000   \n",
              "50%                           65.200000                      0.763000   \n",
              "75%                           68.590000                      0.856000   \n",
              "max                           77.100000                      0.985000   \n",
              "\n",
              "        Generosity  Perceptions of corruption  Positive affect  \\\n",
              "count  1860.000000                1839.000000      1927.000000   \n",
              "mean      0.000103                   0.747125         0.710003   \n",
              "std       0.162215                   0.186789         0.107100   \n",
              "min      -0.335000                   0.035000         0.322000   \n",
              "25%      -0.113000                   0.690000         0.625500   \n",
              "50%      -0.025500                   0.802000         0.722000   \n",
              "75%       0.091000                   0.872000         0.799000   \n",
              "max       0.698000                   0.983000         0.944000   \n",
              "\n",
              "       Negative affect  \n",
              "count      1933.000000  \n",
              "mean          0.268544  \n",
              "std           0.085168  \n",
              "min           0.083000  \n",
              "25%           0.206000  \n",
              "50%           0.258000  \n",
              "75%           0.320000  \n",
              "max           0.705000  "
            ],
            "text/html": [
              "\n",
              "  <div id=\"df-3da203b1-f076-4b82-9b5a-25462fa7ff6f\">\n",
              "    <div class=\"colab-df-container\">\n",
              "      <div>\n",
              "<style scoped>\n",
              "    .dataframe tbody tr th:only-of-type {\n",
              "        vertical-align: middle;\n",
              "    }\n",
              "\n",
              "    .dataframe tbody tr th {\n",
              "        vertical-align: top;\n",
              "    }\n",
              "\n",
              "    .dataframe thead th {\n",
              "        text-align: right;\n",
              "    }\n",
              "</style>\n",
              "<table border=\"1\" class=\"dataframe\">\n",
              "  <thead>\n",
              "    <tr style=\"text-align: right;\">\n",
              "      <th></th>\n",
              "      <th>Life Ladder</th>\n",
              "      <th>Log GDP per capita</th>\n",
              "      <th>Social support</th>\n",
              "      <th>Healthy life expectancy at birth</th>\n",
              "      <th>Freedom to make life choices</th>\n",
              "      <th>Generosity</th>\n",
              "      <th>Perceptions of corruption</th>\n",
              "      <th>Positive affect</th>\n",
              "      <th>Negative affect</th>\n",
              "    </tr>\n",
              "  </thead>\n",
              "  <tbody>\n",
              "    <tr>\n",
              "      <th>count</th>\n",
              "      <td>1949.000000</td>\n",
              "      <td>1913.000000</td>\n",
              "      <td>1936.000000</td>\n",
              "      <td>1894.000000</td>\n",
              "      <td>1917.000000</td>\n",
              "      <td>1860.000000</td>\n",
              "      <td>1839.000000</td>\n",
              "      <td>1927.000000</td>\n",
              "      <td>1933.000000</td>\n",
              "    </tr>\n",
              "    <tr>\n",
              "      <th>mean</th>\n",
              "      <td>5.466705</td>\n",
              "      <td>9.368453</td>\n",
              "      <td>0.812552</td>\n",
              "      <td>63.359374</td>\n",
              "      <td>0.742558</td>\n",
              "      <td>0.000103</td>\n",
              "      <td>0.747125</td>\n",
              "      <td>0.710003</td>\n",
              "      <td>0.268544</td>\n",
              "    </tr>\n",
              "    <tr>\n",
              "      <th>std</th>\n",
              "      <td>1.115711</td>\n",
              "      <td>1.154084</td>\n",
              "      <td>0.118482</td>\n",
              "      <td>7.510245</td>\n",
              "      <td>0.142093</td>\n",
              "      <td>0.162215</td>\n",
              "      <td>0.186789</td>\n",
              "      <td>0.107100</td>\n",
              "      <td>0.085168</td>\n",
              "    </tr>\n",
              "    <tr>\n",
              "      <th>min</th>\n",
              "      <td>2.375000</td>\n",
              "      <td>6.635000</td>\n",
              "      <td>0.290000</td>\n",
              "      <td>32.300000</td>\n",
              "      <td>0.258000</td>\n",
              "      <td>-0.335000</td>\n",
              "      <td>0.035000</td>\n",
              "      <td>0.322000</td>\n",
              "      <td>0.083000</td>\n",
              "    </tr>\n",
              "    <tr>\n",
              "      <th>25%</th>\n",
              "      <td>4.640000</td>\n",
              "      <td>8.464000</td>\n",
              "      <td>0.749750</td>\n",
              "      <td>58.685000</td>\n",
              "      <td>0.647000</td>\n",
              "      <td>-0.113000</td>\n",
              "      <td>0.690000</td>\n",
              "      <td>0.625500</td>\n",
              "      <td>0.206000</td>\n",
              "    </tr>\n",
              "    <tr>\n",
              "      <th>50%</th>\n",
              "      <td>5.386000</td>\n",
              "      <td>9.460000</td>\n",
              "      <td>0.835500</td>\n",
              "      <td>65.200000</td>\n",
              "      <td>0.763000</td>\n",
              "      <td>-0.025500</td>\n",
              "      <td>0.802000</td>\n",
              "      <td>0.722000</td>\n",
              "      <td>0.258000</td>\n",
              "    </tr>\n",
              "    <tr>\n",
              "      <th>75%</th>\n",
              "      <td>6.283000</td>\n",
              "      <td>10.353000</td>\n",
              "      <td>0.905000</td>\n",
              "      <td>68.590000</td>\n",
              "      <td>0.856000</td>\n",
              "      <td>0.091000</td>\n",
              "      <td>0.872000</td>\n",
              "      <td>0.799000</td>\n",
              "      <td>0.320000</td>\n",
              "    </tr>\n",
              "    <tr>\n",
              "      <th>max</th>\n",
              "      <td>8.019000</td>\n",
              "      <td>11.648000</td>\n",
              "      <td>0.987000</td>\n",
              "      <td>77.100000</td>\n",
              "      <td>0.985000</td>\n",
              "      <td>0.698000</td>\n",
              "      <td>0.983000</td>\n",
              "      <td>0.944000</td>\n",
              "      <td>0.705000</td>\n",
              "    </tr>\n",
              "  </tbody>\n",
              "</table>\n",
              "</div>\n",
              "      <button class=\"colab-df-convert\" onclick=\"convertToInteractive('df-3da203b1-f076-4b82-9b5a-25462fa7ff6f')\"\n",
              "              title=\"Convert this dataframe to an interactive table.\"\n",
              "              style=\"display:none;\">\n",
              "        \n",
              "  <svg xmlns=\"http://www.w3.org/2000/svg\" height=\"24px\"viewBox=\"0 0 24 24\"\n",
              "       width=\"24px\">\n",
              "    <path d=\"M0 0h24v24H0V0z\" fill=\"none\"/>\n",
              "    <path d=\"M18.56 5.44l.94 2.06.94-2.06 2.06-.94-2.06-.94-.94-2.06-.94 2.06-2.06.94zm-11 1L8.5 8.5l.94-2.06 2.06-.94-2.06-.94L8.5 2.5l-.94 2.06-2.06.94zm10 10l.94 2.06.94-2.06 2.06-.94-2.06-.94-.94-2.06-.94 2.06-2.06.94z\"/><path d=\"M17.41 7.96l-1.37-1.37c-.4-.4-.92-.59-1.43-.59-.52 0-1.04.2-1.43.59L10.3 9.45l-7.72 7.72c-.78.78-.78 2.05 0 2.83L4 21.41c.39.39.9.59 1.41.59.51 0 1.02-.2 1.41-.59l7.78-7.78 2.81-2.81c.8-.78.8-2.07 0-2.86zM5.41 20L4 18.59l7.72-7.72 1.47 1.35L5.41 20z\"/>\n",
              "  </svg>\n",
              "      </button>\n",
              "      \n",
              "  <style>\n",
              "    .colab-df-container {\n",
              "      display:flex;\n",
              "      flex-wrap:wrap;\n",
              "      gap: 12px;\n",
              "    }\n",
              "\n",
              "    .colab-df-convert {\n",
              "      background-color: #E8F0FE;\n",
              "      border: none;\n",
              "      border-radius: 50%;\n",
              "      cursor: pointer;\n",
              "      display: none;\n",
              "      fill: #1967D2;\n",
              "      height: 32px;\n",
              "      padding: 0 0 0 0;\n",
              "      width: 32px;\n",
              "    }\n",
              "\n",
              "    .colab-df-convert:hover {\n",
              "      background-color: #E2EBFA;\n",
              "      box-shadow: 0px 1px 2px rgba(60, 64, 67, 0.3), 0px 1px 3px 1px rgba(60, 64, 67, 0.15);\n",
              "      fill: #174EA6;\n",
              "    }\n",
              "\n",
              "    [theme=dark] .colab-df-convert {\n",
              "      background-color: #3B4455;\n",
              "      fill: #D2E3FC;\n",
              "    }\n",
              "\n",
              "    [theme=dark] .colab-df-convert:hover {\n",
              "      background-color: #434B5C;\n",
              "      box-shadow: 0px 1px 3px 1px rgba(0, 0, 0, 0.15);\n",
              "      filter: drop-shadow(0px 1px 2px rgba(0, 0, 0, 0.3));\n",
              "      fill: #FFFFFF;\n",
              "    }\n",
              "  </style>\n",
              "\n",
              "      <script>\n",
              "        const buttonEl =\n",
              "          document.querySelector('#df-3da203b1-f076-4b82-9b5a-25462fa7ff6f button.colab-df-convert');\n",
              "        buttonEl.style.display =\n",
              "          google.colab.kernel.accessAllowed ? 'block' : 'none';\n",
              "\n",
              "        async function convertToInteractive(key) {\n",
              "          const element = document.querySelector('#df-3da203b1-f076-4b82-9b5a-25462fa7ff6f');\n",
              "          const dataTable =\n",
              "            await google.colab.kernel.invokeFunction('convertToInteractive',\n",
              "                                                     [key], {});\n",
              "          if (!dataTable) return;\n",
              "\n",
              "          const docLinkHtml = 'Like what you see? Visit the ' +\n",
              "            '<a target=\"_blank\" href=https://colab.research.google.com/notebooks/data_table.ipynb>data table notebook</a>'\n",
              "            + ' to learn more about interactive tables.';\n",
              "          element.innerHTML = '';\n",
              "          dataTable['output_type'] = 'display_data';\n",
              "          await google.colab.output.renderOutput(dataTable, element);\n",
              "          const docLink = document.createElement('div');\n",
              "          docLink.innerHTML = docLinkHtml;\n",
              "          element.appendChild(docLink);\n",
              "        }\n",
              "      </script>\n",
              "    </div>\n",
              "  </div>\n",
              "  "
            ]
          },
          "metadata": {},
          "execution_count": 46
        }
      ]
    },
    {
      "cell_type": "markdown",
      "source": [
        "### 1. Frequency Tables\n",
        "#### A frequency table of a variable divides up the variable range into equally spaced segments and tells us how many values fall within each segment"
      ],
      "metadata": {
        "id": "4a56cb93-2fea-4161-97c4-48d47a8ecea4"
      },
      "id": "4a56cb93-2fea-4161-97c4-48d47a8ecea4"
    },
    {
      "cell_type": "markdown",
      "source": [
        "#### A simple alternative to compute frequency tables is via Pandas value_count() method\n"
      ],
      "metadata": {
        "id": "687b4a15-2619-48ef-95d5-47522c82f5e9"
      },
      "id": "687b4a15-2619-48ef-95d5-47522c82f5e9"
    },
    {
      "cell_type": "code",
      "source": [
        "happinessReport['Healthy life expectancy at birth'].value_counts()"
      ],
      "metadata": {
        "trusted": true,
        "id": "d6cc25df-0ed3-4da4-8e46-09957b5ac313",
        "outputId": "df81be23-9bab-4bb7-94ad-3304343602dc",
        "colab": {
          "base_uri": "https://localhost:8080/"
        }
      },
      "execution_count": 47,
      "outputs": [
        {
          "output_type": "execute_result",
          "data": {
            "text/plain": [
              "72.20    15\n",
              "66.40    14\n",
              "67.20    14\n",
              "73.00    14\n",
              "66.60    13\n",
              "         ..\n",
              "73.44     1\n",
              "49.86     1\n",
              "66.22     1\n",
              "54.46     1\n",
              "55.60     1\n",
              "Name: Healthy life expectancy at birth, Length: 828, dtype: int64"
            ]
          },
          "metadata": {},
          "execution_count": 47
        }
      ],
      "id": "d6cc25df-0ed3-4da4-8e46-09957b5ac313"
    },
    {
      "cell_type": "code",
      "source": [
        "happinessReport['Healthy life expectancy at birth'].value_counts(bins=20,ascending=False)"
      ],
      "metadata": {
        "trusted": true,
        "id": "12c57f56-a1c8-4c79-b532-29dd214a8ea7",
        "outputId": "f80054b0-d196-4a43-80df-852f5a75babb",
        "colab": {
          "base_uri": "https://localhost:8080/"
        }
      },
      "execution_count": 48,
      "outputs": [
        {
          "output_type": "execute_result",
          "data": {
            "text/plain": [
              "(65.9, 68.14]                  323\n",
              "(63.66, 65.9]                  285\n",
              "(70.38, 72.62]                 231\n",
              "(68.14, 70.38]                 151\n",
              "(61.42, 63.66]                 143\n",
              "(59.18, 61.42]                 128\n",
              "(72.62, 74.86]                 122\n",
              "(54.7, 56.94]                  107\n",
              "(52.46, 54.7]                   95\n",
              "(56.94, 59.18]                  93\n",
              "(50.22, 52.46]                  68\n",
              "(47.98, 50.22]                  61\n",
              "(45.74, 47.98]                  38\n",
              "(43.5, 45.74]                   22\n",
              "(74.86, 77.1]                   13\n",
              "(41.26, 43.5]                    7\n",
              "(39.02, 41.26]                   5\n",
              "(36.78, 39.02]                   1\n",
              "(32.254000000000005, 34.54]      1\n",
              "(34.54, 36.78]                   0\n",
              "Name: Healthy life expectancy at birth, dtype: int64"
            ]
          },
          "metadata": {},
          "execution_count": 48
        }
      ],
      "id": "12c57f56-a1c8-4c79-b532-29dd214a8ea7"
    },
    {
      "cell_type": "code",
      "source": [
        "happinessReport['Log GDP per capita'].value_counts(bins=20,ascending=False)"
      ],
      "metadata": {
        "colab": {
          "base_uri": "https://localhost:8080/"
        },
        "id": "_OI9mwQ8SEAK",
        "outputId": "12cee94a-fce8-4df8-ff69-0bceb629036a"
      },
      "id": "_OI9mwQ8SEAK",
      "execution_count": 49,
      "outputs": [
        {
          "output_type": "execute_result",
          "data": {
            "text/plain": [
              "(10.645, 10.896]    205\n",
              "(9.142, 9.392]      182\n",
              "(9.392, 9.643]      171\n",
              "(10.395, 10.645]    137\n",
              "(9.643, 9.893]      136\n",
              "(9.893, 10.144]     121\n",
              "(10.144, 10.395]    121\n",
              "(8.39, 8.64]        114\n",
              "(8.891, 9.142]      109\n",
              "(7.888, 8.139]       95\n",
              "(8.139, 8.39]        94\n",
              "(7.638, 7.888]       78\n",
              "(10.896, 11.147]     78\n",
              "(7.387, 7.638]       77\n",
              "(8.64, 8.891]        55\n",
              "(7.136, 7.387]       51\n",
              "(6.886, 7.136]       33\n",
              "(11.397, 11.648]     21\n",
              "(6.629, 6.886]       19\n",
              "(11.147, 11.397]     16\n",
              "Name: Log GDP per capita, dtype: int64"
            ]
          },
          "metadata": {},
          "execution_count": 49
        }
      ]
    },
    {
      "cell_type": "code",
      "source": [],
      "metadata": {
        "id": "1bQtkMUPho9c"
      },
      "id": "1bQtkMUPho9c",
      "execution_count": 49,
      "outputs": []
    },
    {
      "cell_type": "markdown",
      "source": [
        "### 2. Histograms\n",
        "#### A histogram is a way to visualize a frequency table, with bins on the x-axis and the data count on the y-axis."
      ],
      "metadata": {
        "id": "lEQEacrNXxrZ"
      },
      "id": "lEQEacrNXxrZ"
    },
    {
      "cell_type": "markdown",
      "source": [
        "#### There are several alternatives to compute histograms in Python:\n",
        "\n",
        "#### 1. Using Pandas\n",
        "#### 2. Using seaborn"
      ],
      "metadata": {
        "id": "7yC9o-cOYCl6"
      },
      "id": "7yC9o-cOYCl6"
    },
    {
      "cell_type": "code",
      "source": [
        "happinessReport['Healthy life expectancy at birth'].hist()"
      ],
      "metadata": {
        "colab": {
          "base_uri": "https://localhost:8080/",
          "height": 282
        },
        "id": "GJDw8HavYNfC",
        "outputId": "a2298b8c-3215-48c2-c63e-261a985cad0e"
      },
      "id": "GJDw8HavYNfC",
      "execution_count": 50,
      "outputs": [
        {
          "output_type": "execute_result",
          "data": {
            "text/plain": [
              "<matplotlib.axes._subplots.AxesSubplot at 0x7f8ac04be0d0>"
            ]
          },
          "metadata": {},
          "execution_count": 50
        },
        {
          "output_type": "display_data",
          "data": {
            "text/plain": [
              "<Figure size 432x288 with 1 Axes>"
            ],
            "image/png": "[encoded data removed]"
          },
          "metadata": {
            "needs_background": "light"
          }
        }
      ]
    },
    {
      "cell_type": "code",
      "source": [
        "happinessReport['Healthy life expectancy at birth'].hist(bins=100)"
      ],
      "metadata": {
        "colab": {
          "base_uri": "https://localhost:8080/",
          "height": 282
        },
        "id": "qfQLkqunYYUu",
        "outputId": "b0951cd9-54fb-48cb-d266-ff65af19091c"
      },
      "id": "qfQLkqunYYUu",
      "execution_count": 51,
      "outputs": [
        {
          "output_type": "execute_result",
          "data": {
            "text/plain": [
              "<matplotlib.axes._subplots.AxesSubplot at 0x7f8ac068c2d0>"
            ]
          },
          "metadata": {},
          "execution_count": 51
        },
        {
          "output_type": "display_data",
          "data": {
            "text/plain": [
              "<Figure size 432x288 with 1 Axes>"
            ],
            "image/png": "[encoded data removed]"
          },
          "metadata": {
            "needs_background": "light"
          }
        }
      ]
    },
    {
      "cell_type": "code",
      "source": [
        "happinessReport['Log GDP per capita'].hist(bins=10)"
      ],
      "metadata": {
        "colab": {
          "base_uri": "https://localhost:8080/",
          "height": 282
        },
        "id": "-yW4B0AlY2zi",
        "outputId": "1987df69-6a76-4a9c-d2e6-a0e0d93dafe6"
      },
      "id": "-yW4B0AlY2zi",
      "execution_count": 52,
      "outputs": [
        {
          "output_type": "execute_result",
          "data": {
            "text/plain": [
              "<matplotlib.axes._subplots.AxesSubplot at 0x7f8abfe0f590>"
            ]
          },
          "metadata": {},
          "execution_count": 52
        },
        {
          "output_type": "display_data",
          "data": {
            "text/plain": [
              "<Figure size 432x288 with 1 Axes>"
            ],
            "image/png": "[encoded data removed]"
          },
          "metadata": {
            "needs_background": "light"
          }
        }
      ]
    },
    {
      "cell_type": "code",
      "source": [],
      "metadata": {
        "id": "50Tssvf6Y2w9"
      },
      "id": "50Tssvf6Y2w9",
      "execution_count": 52,
      "outputs": []
    },
    {
      "cell_type": "code",
      "source": [
        "sns.histplot(data=happinessReport, x=\"Log GDP per capita\")"
      ],
      "metadata": {
        "colab": {
          "base_uri": "https://localhost:8080/",
          "height": 296
        },
        "id": "wg3Efyx-Y2t1",
        "outputId": "12f14310-1379-4df7-8348-9114da7844c6"
      },
      "id": "wg3Efyx-Y2t1",
      "execution_count": 53,
      "outputs": [
        {
          "output_type": "execute_result",
          "data": {
            "text/plain": [
              "<matplotlib.axes._subplots.AxesSubplot at 0x7f8abfd898d0>"
            ]
          },
          "metadata": {},
          "execution_count": 53
        },
        {
          "output_type": "display_data",
          "data": {
            "text/plain": [
              "<Figure size 432x288 with 1 Axes>"
            ],
            "image/png": "[encoded data removed]"
          },
          "metadata": {
            "needs_background": "light"
          }
        }
      ]
    },
    {
      "cell_type": "code",
      "source": [],
      "metadata": {
        "id": "xonPoxi8Yhey"
      },
      "id": "xonPoxi8Yhey",
      "execution_count": 53,
      "outputs": []
    },
    {
      "cell_type": "markdown",
      "source": [
        "### 3. Density Plots\n",
        "#### A density plot is a smoothed diagram computed from the data through a kerner density estimate"
      ],
      "metadata": {
        "id": "cotKRBjHAS-4"
      },
      "id": "cotKRBjHAS-4"
    },
    {
      "cell_type": "markdown",
      "source": [
        "#### There are several alternatives to compute histograms in Python:\n",
        "\n",
        "#### 1. Using Pandas\n",
        "#### 2. Using seaborn"
      ],
      "metadata": {
        "id": "mFDeLmZ5AlpN"
      },
      "id": "mFDeLmZ5AlpN"
    },
    {
      "cell_type": "code",
      "source": [],
      "metadata": {
        "id": "SYR7q33yAmu8"
      },
      "id": "SYR7q33yAmu8",
      "execution_count": 53,
      "outputs": []
    },
    {
      "cell_type": "code",
      "source": [
        "happinessReport['Healthy life expectancy at birth'].plot.kde()"
      ],
      "metadata": {
        "colab": {
          "base_uri": "https://localhost:8080/",
          "height": 282
        },
        "id": "6o-Be6diAmy2",
        "outputId": "cdbf04f6-9d38-48a1-9452-6675bd4add09"
      },
      "id": "6o-Be6diAmy2",
      "execution_count": 54,
      "outputs": [
        {
          "output_type": "execute_result",
          "data": {
            "text/plain": [
              "<matplotlib.axes._subplots.AxesSubplot at 0x7f8abfcaf450>"
            ]
          },
          "metadata": {},
          "execution_count": 54
        },
        {
          "output_type": "display_data",
          "data": {
            "text/plain": [
              "<Figure size 432x288 with 1 Axes>"
            ],
            "image/png": "[encoded data removed]"
          },
          "metadata": {
            "needs_background": "light"
          }
        }
      ]
    },
    {
      "cell_type": "code",
      "source": [
        "happinessReport['Log GDP per capita'].plot.kde()"
      ],
      "metadata": {
        "colab": {
          "base_uri": "https://localhost:8080/",
          "height": 282
        },
        "id": "fZgcuhJVAvBu",
        "outputId": "678fc555-64dc-4a1b-ec64-68069f287102"
      },
      "id": "fZgcuhJVAvBu",
      "execution_count": 55,
      "outputs": [
        {
          "output_type": "execute_result",
          "data": {
            "text/plain": [
              "<matplotlib.axes._subplots.AxesSubplot at 0x7f8abfc37550>"
            ]
          },
          "metadata": {},
          "execution_count": 55
        },
        {
          "output_type": "display_data",
          "data": {
            "text/plain": [
              "<Figure size 432x288 with 1 Axes>"
            ],
            "image/png": "[encoded data removed]"
          },
          "metadata": {
            "needs_background": "light"
          }
        }
      ]
    },
    {
      "cell_type": "code",
      "source": [
        "sns.histplot(data=happinessReport, x=\"Log GDP per capita\",kde=True)"
      ],
      "metadata": {
        "colab": {
          "base_uri": "https://localhost:8080/",
          "height": 296
        },
        "id": "-XV1Q9jJCLjs",
        "outputId": "7aa0143e-513c-4a1b-847a-a57606540668"
      },
      "id": "-XV1Q9jJCLjs",
      "execution_count": 56,
      "outputs": [
        {
          "output_type": "execute_result",
          "data": {
            "text/plain": [
              "<matplotlib.axes._subplots.AxesSubplot at 0x7f8abfc20650>"
            ]
          },
          "metadata": {},
          "execution_count": 56
        },
        {
          "output_type": "display_data",
          "data": {
            "text/plain": [
              "<Figure size 432x288 with 1 Axes>"
            ],
            "image/png": "[encoded data removed]"
          },
          "metadata": {
            "needs_background": "light"
          }
        }
      ]
    },
    {
      "cell_type": "code",
      "source": [],
      "metadata": {
        "id": "2ehJg9zhDcZB"
      },
      "id": "2ehJg9zhDcZB",
      "execution_count": 56,
      "outputs": []
    },
    {
      "cell_type": "markdown",
      "source": [
        "### 4. Box Plots\n",
        "#### Box Plots are quite useful to summarize visually the distribution of a variable\n"
      ],
      "metadata": {
        "id": "XavSc5U36mRI"
      },
      "id": "XavSc5U36mRI"
    },
    {
      "cell_type": "markdown",
      "source": [
        "#### There are several alternatives to compute histograms in Python:\n",
        "\n",
        "#### 1. Using Pandas\n",
        "#### 2. Using seaborn"
      ],
      "metadata": {
        "id": "HQnmDlq-7WuX"
      },
      "id": "HQnmDlq-7WuX"
    },
    {
      "cell_type": "code",
      "source": [
        "happinessReport.boxplot(column=['Healthy life expectancy at birth'])"
      ],
      "metadata": {
        "colab": {
          "base_uri": "https://localhost:8080/",
          "height": 282
        },
        "id": "c_Lf8GuI7Yy-",
        "outputId": "e99c992a-918c-47d3-c741-b49a37976462"
      },
      "id": "c_Lf8GuI7Yy-",
      "execution_count": 57,
      "outputs": [
        {
          "output_type": "execute_result",
          "data": {
            "text/plain": [
              "<matplotlib.axes._subplots.AxesSubplot at 0x7f8abfb39510>"
            ]
          },
          "metadata": {},
          "execution_count": 57
        },
        {
          "output_type": "display_data",
          "data": {
            "text/plain": [
              "<Figure size 432x288 with 1 Axes>"
            ],
            "image/png": "[encoded data removed]"
          },
          "metadata": {
            "needs_background": "light"
          }
        }
      ]
    },
    {
      "cell_type": "code",
      "source": [
        "happinessReport.boxplot(column=['Log GDP per capita'])"
      ],
      "metadata": {
        "colab": {
          "base_uri": "https://localhost:8080/",
          "height": 282
        },
        "id": "9DxoBv877YqX",
        "outputId": "2bf1bbfe-feaf-4ced-f925-315f59b48ee4"
      },
      "id": "9DxoBv877YqX",
      "execution_count": 58,
      "outputs": [
        {
          "output_type": "execute_result",
          "data": {
            "text/plain": [
              "<matplotlib.axes._subplots.AxesSubplot at 0x7f8abfb24410>"
            ]
          },
          "metadata": {},
          "execution_count": 58
        },
        {
          "output_type": "display_data",
          "data": {
            "text/plain": [
              "<Figure size 432x288 with 1 Axes>"
            ],
            "image/png": "[encoded data removed]"
          },
          "metadata": {
            "needs_background": "light"
          }
        }
      ]
    },
    {
      "cell_type": "code",
      "source": [
        "sns.boxplot(data=happinessReport, x=\"Healthy life expectancy at birth\")"
      ],
      "metadata": {
        "colab": {
          "base_uri": "https://localhost:8080/",
          "height": 296
        },
        "id": "kZoisTH_7862",
        "outputId": "8005b6a6-4c5d-4f0b-9625-1b7bdbfbb210"
      },
      "id": "kZoisTH_7862",
      "execution_count": 59,
      "outputs": [
        {
          "output_type": "execute_result",
          "data": {
            "text/plain": [
              "<matplotlib.axes._subplots.AxesSubplot at 0x7f8abfa8f650>"
            ]
          },
          "metadata": {},
          "execution_count": 59
        },
        {
          "output_type": "display_data",
          "data": {
            "text/plain": [
              "<Figure size 432x288 with 1 Axes>"
            ],
            "image/png": "[encoded data removed]"
          },
          "metadata": {
            "needs_background": "light"
          }
        }
      ]
    },
    {
      "cell_type": "code",
      "source": [
        "sns.boxplot(data=happinessReport, x=\"Log GDP per capita\")"
      ],
      "metadata": {
        "colab": {
          "base_uri": "https://localhost:8080/",
          "height": 296
        },
        "id": "yQGnBNX28LW7",
        "outputId": "bb563c56-5d96-482f-d7da-75a372e0e5e8"
      },
      "id": "yQGnBNX28LW7",
      "execution_count": 60,
      "outputs": [
        {
          "output_type": "execute_result",
          "data": {
            "text/plain": [
              "<matplotlib.axes._subplots.AxesSubplot at 0x7f8abf9f82d0>"
            ]
          },
          "metadata": {},
          "execution_count": 60
        },
        {
          "output_type": "display_data",
          "data": {
            "text/plain": [
              "<Figure size 432x288 with 1 Axes>"
            ],
            "image/png": "[encoded data removed]"
          },
          "metadata": {
            "needs_background": "light"
          }
        }
      ]
    },
    {
      "cell_type": "code",
      "source": [],
      "metadata": {
        "id": "LneADIZ-8TUW"
      },
      "id": "LneADIZ-8TUW",
      "execution_count": 60,
      "outputs": []
    }
  ]
}