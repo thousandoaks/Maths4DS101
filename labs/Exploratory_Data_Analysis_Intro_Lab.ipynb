{
  "metadata": {
    "orig_nbformat": 4,
    "language_info": {
      "name": "python",
      "version": "3.7.12",
      "mimetype": "text/x-python",
      "codemirror_mode": {
        "name": "ipython",
        "version": 3
      },
      "pygments_lexer": "ipython3",
      "nbconvert_exporter": "python",
      "file_extension": ".py"
    },
    "kernelspec": {
      "name": "python3",
      "display_name": "Python 3 (ipykernel)",
      "language": "python"
    },
    "colab": {
      "provenance": []
    }
  },
  "nbformat_minor": 5,
  "nbformat": 4,
  "cells": [
    {
      "cell_type": "markdown",
      "source": [
        "# Introduction to Explorarory Data Analysis"
      ],
      "metadata": {
        "id": "eede7fe4-98b5-4d22-b3fe-4e3db9b395c2"
      },
      "id": "eede7fe4-98b5-4d22-b3fe-4e3db9b395c2"
    },
    {
      "cell_type": "markdown",
      "source": [
        "### Intro and objectives:\n",
        "#### review measures of location and variability\n",
        "#### review methods to explore the distribution of data"
      ],
      "metadata": {
        "id": "39f20e66-be20-42e0-a51f-6aec8054a2e6"
      },
      "id": "39f20e66-be20-42e0-a51f-6aec8054a2e6"
    },
    {
      "cell_type": "markdown",
      "source": [
        "### In this lab you will learn:\n",
        "1. How to compute estimates of location\n",
        "2. How to compute estimates of variability\n",
        "\n"
      ],
      "metadata": {
        "id": "da725a69-037b-4d60-8ca7-76ec70842cbe"
      },
      "id": "da725a69-037b-4d60-8ca7-76ec70842cbe"
    },
    {
      "cell_type": "code",
      "source": [],
      "metadata": {
        "id": "b076b9e8-5090-4d5f-a52f-48df4ac4e753"
      },
      "execution_count": null,
      "outputs": [],
      "id": "b076b9e8-5090-4d5f-a52f-48df4ac4e753"
    },
    {
      "cell_type": "markdown",
      "source": [
        "## 0. Let's import required libraries and load some data\n"
      ],
      "metadata": {
        "id": "2b683786-9c34-48b1-b545-7712dbb6528d"
      },
      "id": "2b683786-9c34-48b1-b545-7712dbb6528d"
    },
    {
      "cell_type": "code",
      "source": [
        "import pandas as pd\n",
        "import seaborn as sns\n",
        "import matplotlib.pyplot as plt\n",
        "import numpy as np\n",
        "import scipy as sp\n",
        "from scipy import stats"
      ],
      "metadata": {
        "trusted": true,
        "id": "af35c4c7-e581-4140-a4b5-f47beb5f64d5"
      },
      "execution_count": 2,
      "outputs": [],
      "id": "af35c4c7-e581-4140-a4b5-f47beb5f64d5"
    },
    {
      "cell_type": "code",
      "source": [
        "covidDataFrame = pd.read_csv('https://raw.githubusercontent.com/thousandoaks/Maths4DS101/main/data/covid19_cases.csv',parse_dates=['dateRep'])"
      ],
      "metadata": {
        "trusted": true,
        "id": "85c82379-65b6-47c8-a00a-bdacadb9f92e"
      },
      "execution_count": 3,
      "outputs": [],
      "id": "85c82379-65b6-47c8-a00a-bdacadb9f92e"
    },
    {
      "cell_type": "code",
      "source": [
        "covidDataFrame.head()"
      ],
      "metadata": {
        "trusted": true,
        "id": "a12023c6-9d67-4806-bcb5-430006c6def1",
        "outputId": "c12cae40-d1d9-4e10-b1f3-0c0f6b5424d5",
        "colab": {
          "base_uri": "https://localhost:8080/",
          "height": 206
        }
      },
      "execution_count": 4,
      "outputs": [
        {
          "output_type": "execute_result",
          "data": {
            "text/plain": [
              "     dateRep  day  month  year  cases  deaths countriesAndTerritories geoId  \\\n",
              "0 2020-09-19   19      9  2020     47       1             Afghanistan    AF   \n",
              "1 2020-09-18   18      9  2020      0       0             Afghanistan    AF   \n",
              "2 2020-09-17   17      9  2020     17       0             Afghanistan    AF   \n",
              "3 2020-09-16   16      9  2020     40      10             Afghanistan    AF   \n",
              "4 2020-09-15   15      9  2020     99       6             Afghanistan    AF   \n",
              "\n",
              "  countryterritoryCode  popData2019 continentExp  \\\n",
              "0                  AFG   38041757.0         Asia   \n",
              "1                  AFG   38041757.0         Asia   \n",
              "2                  AFG   38041757.0         Asia   \n",
              "3                  AFG   38041757.0         Asia   \n",
              "4                  AFG   38041757.0         Asia   \n",
              "\n",
              "   Cumulative_number_for_14_days_of_COVID-19_cases_per_100000  \n",
              "0                                           1.616645           \n",
              "1                                           1.535155           \n",
              "2                                           1.653446           \n",
              "3                                           1.708649           \n",
              "4                                           1.627159           "
            ],
            "text/html": [
              "\n",
              "  <div id=\"df-0a535e4f-ff35-4858-a62b-5bb152b3c31f\">\n",
              "    <div class=\"colab-df-container\">\n",
              "      <div>\n",
              "<style scoped>\n",
              "    .dataframe tbody tr th:only-of-type {\n",
              "        vertical-align: middle;\n",
              "    }\n",
              "\n",
              "    .dataframe tbody tr th {\n",
              "        vertical-align: top;\n",
              "    }\n",
              "\n",
              "    .dataframe thead th {\n",
              "        text-align: right;\n",
              "    }\n",
              "</style>\n",
              "<table border=\"1\" class=\"dataframe\">\n",
              "  <thead>\n",
              "    <tr style=\"text-align: right;\">\n",
              "      <th></th>\n",
              "      <th>dateRep</th>\n",
              "      <th>day</th>\n",
              "      <th>month</th>\n",
              "      <th>year</th>\n",
              "      <th>cases</th>\n",
              "      <th>deaths</th>\n",
              "      <th>countriesAndTerritories</th>\n",
              "      <th>geoId</th>\n",
              "      <th>countryterritoryCode</th>\n",
              "      <th>popData2019</th>\n",
              "      <th>continentExp</th>\n",
              "      <th>Cumulative_number_for_14_days_of_COVID-19_cases_per_100000</th>\n",
              "    </tr>\n",
              "  </thead>\n",
              "  <tbody>\n",
              "    <tr>\n",
              "      <th>0</th>\n",
              "      <td>2020-09-19</td>\n",
              "      <td>19</td>\n",
              "      <td>9</td>\n",
              "      <td>2020</td>\n",
              "      <td>47</td>\n",
              "      <td>1</td>\n",
              "      <td>Afghanistan</td>\n",
              "      <td>AF</td>\n",
              "      <td>AFG</td>\n",
              "      <td>38041757.0</td>\n",
              "      <td>Asia</td>\n",
              "      <td>1.616645</td>\n",
              "    </tr>\n",
              "    <tr>\n",
              "      <th>1</th>\n",
              "      <td>2020-09-18</td>\n",
              "      <td>18</td>\n",
              "      <td>9</td>\n",
              "      <td>2020</td>\n",
              "      <td>0</td>\n",
              "      <td>0</td>\n",
              "      <td>Afghanistan</td>\n",
              "      <td>AF</td>\n",
              "      <td>AFG</td>\n",
              "      <td>38041757.0</td>\n",
              "      <td>Asia</td>\n",
              "      <td>1.535155</td>\n",
              "    </tr>\n",
              "    <tr>\n",
              "      <th>2</th>\n",
              "      <td>2020-09-17</td>\n",
              "      <td>17</td>\n",
              "      <td>9</td>\n",
              "      <td>2020</td>\n",
              "      <td>17</td>\n",
              "      <td>0</td>\n",
              "      <td>Afghanistan</td>\n",
              "      <td>AF</td>\n",
              "      <td>AFG</td>\n",
              "      <td>38041757.0</td>\n",
              "      <td>Asia</td>\n",
              "      <td>1.653446</td>\n",
              "    </tr>\n",
              "    <tr>\n",
              "      <th>3</th>\n",
              "      <td>2020-09-16</td>\n",
              "      <td>16</td>\n",
              "      <td>9</td>\n",
              "      <td>2020</td>\n",
              "      <td>40</td>\n",
              "      <td>10</td>\n",
              "      <td>Afghanistan</td>\n",
              "      <td>AF</td>\n",
              "      <td>AFG</td>\n",
              "      <td>38041757.0</td>\n",
              "      <td>Asia</td>\n",
              "      <td>1.708649</td>\n",
              "    </tr>\n",
              "    <tr>\n",
              "      <th>4</th>\n",
              "      <td>2020-09-15</td>\n",
              "      <td>15</td>\n",
              "      <td>9</td>\n",
              "      <td>2020</td>\n",
              "      <td>99</td>\n",
              "      <td>6</td>\n",
              "      <td>Afghanistan</td>\n",
              "      <td>AF</td>\n",
              "      <td>AFG</td>\n",
              "      <td>38041757.0</td>\n",
              "      <td>Asia</td>\n",
              "      <td>1.627159</td>\n",
              "    </tr>\n",
              "  </tbody>\n",
              "</table>\n",
              "</div>\n",
              "      <button class=\"colab-df-convert\" onclick=\"convertToInteractive('df-0a535e4f-ff35-4858-a62b-5bb152b3c31f')\"\n",
              "              title=\"Convert this dataframe to an interactive table.\"\n",
              "              style=\"display:none;\">\n",
              "        \n",
              "  <svg xmlns=\"http://www.w3.org/2000/svg\" height=\"24px\"viewBox=\"0 0 24 24\"\n",
              "       width=\"24px\">\n",
              "    <path d=\"M0 0h24v24H0V0z\" fill=\"none\"/>\n",
              "    <path d=\"M18.56 5.44l.94 2.06.94-2.06 2.06-.94-2.06-.94-.94-2.06-.94 2.06-2.06.94zm-11 1L8.5 8.5l.94-2.06 2.06-.94-2.06-.94L8.5 2.5l-.94 2.06-2.06.94zm10 10l.94 2.06.94-2.06 2.06-.94-2.06-.94-.94-2.06-.94 2.06-2.06.94z\"/><path d=\"M17.41 7.96l-1.37-1.37c-.4-.4-.92-.59-1.43-.59-.52 0-1.04.2-1.43.59L10.3 9.45l-7.72 7.72c-.78.78-.78 2.05 0 2.83L4 21.41c.39.39.9.59 1.41.59.51 0 1.02-.2 1.41-.59l7.78-7.78 2.81-2.81c.8-.78.8-2.07 0-2.86zM5.41 20L4 18.59l7.72-7.72 1.47 1.35L5.41 20z\"/>\n",
              "  </svg>\n",
              "      </button>\n",
              "      \n",
              "  <style>\n",
              "    .colab-df-container {\n",
              "      display:flex;\n",
              "      flex-wrap:wrap;\n",
              "      gap: 12px;\n",
              "    }\n",
              "\n",
              "    .colab-df-convert {\n",
              "      background-color: #E8F0FE;\n",
              "      border: none;\n",
              "      border-radius: 50%;\n",
              "      cursor: pointer;\n",
              "      display: none;\n",
              "      fill: #1967D2;\n",
              "      height: 32px;\n",
              "      padding: 0 0 0 0;\n",
              "      width: 32px;\n",
              "    }\n",
              "\n",
              "    .colab-df-convert:hover {\n",
              "      background-color: #E2EBFA;\n",
              "      box-shadow: 0px 1px 2px rgba(60, 64, 67, 0.3), 0px 1px 3px 1px rgba(60, 64, 67, 0.15);\n",
              "      fill: #174EA6;\n",
              "    }\n",
              "\n",
              "    [theme=dark] .colab-df-convert {\n",
              "      background-color: #3B4455;\n",
              "      fill: #D2E3FC;\n",
              "    }\n",
              "\n",
              "    [theme=dark] .colab-df-convert:hover {\n",
              "      background-color: #434B5C;\n",
              "      box-shadow: 0px 1px 3px 1px rgba(0, 0, 0, 0.15);\n",
              "      filter: drop-shadow(0px 1px 2px rgba(0, 0, 0, 0.3));\n",
              "      fill: #FFFFFF;\n",
              "    }\n",
              "  </style>\n",
              "\n",
              "      <script>\n",
              "        const buttonEl =\n",
              "          document.querySelector('#df-0a535e4f-ff35-4858-a62b-5bb152b3c31f button.colab-df-convert');\n",
              "        buttonEl.style.display =\n",
              "          google.colab.kernel.accessAllowed ? 'block' : 'none';\n",
              "\n",
              "        async function convertToInteractive(key) {\n",
              "          const element = document.querySelector('#df-0a535e4f-ff35-4858-a62b-5bb152b3c31f');\n",
              "          const dataTable =\n",
              "            await google.colab.kernel.invokeFunction('convertToInteractive',\n",
              "                                                     [key], {});\n",
              "          if (!dataTable) return;\n",
              "\n",
              "          const docLinkHtml = 'Like what you see? Visit the ' +\n",
              "            '<a target=\"_blank\" href=https://colab.research.google.com/notebooks/data_table.ipynb>data table notebook</a>'\n",
              "            + ' to learn more about interactive tables.';\n",
              "          element.innerHTML = '';\n",
              "          dataTable['output_type'] = 'display_data';\n",
              "          await google.colab.output.renderOutput(dataTable, element);\n",
              "          const docLink = document.createElement('div');\n",
              "          docLink.innerHTML = docLinkHtml;\n",
              "          element.appendChild(docLink);\n",
              "        }\n",
              "      </script>\n",
              "    </div>\n",
              "  </div>\n",
              "  "
            ]
          },
          "metadata": {},
          "execution_count": 4
        }
      ],
      "id": "a12023c6-9d67-4806-bcb5-430006c6def1"
    },
    {
      "cell_type": "markdown",
      "source": [
        "### 1. Estimates of Location\n",
        "#### Variables with measured or count data might have thousands of distinct values. A basic step in exploring your data is getting a “typical value” for each feature (variable): an estimate of where most of the data is located (i.e., its central tendency)."
      ],
      "metadata": {
        "id": "4a56cb93-2fea-4161-97c4-48d47a8ecea4"
      },
      "id": "4a56cb93-2fea-4161-97c4-48d47a8ecea4"
    },
    {
      "cell_type": "markdown",
      "source": [
        "### 1.1. Mean (a.k.a Average)\n",
        "#### The Mean is simly the sum of all values divided by the number of values"
      ],
      "metadata": {
        "id": "37ba6e24-0c18-4807-a951-696af59811c5"
      },
      "id": "37ba6e24-0c18-4807-a951-696af59811c5"
    },
    {
      "cell_type": "markdown",
      "source": [
        "#### there are several alternatives to compute the mean of a variable in Python: \n",
        "1. use the numpy module\n",
        "2. use the pandas module\n"
      ],
      "metadata": {
        "id": "687b4a15-2619-48ef-95d5-47522c82f5e9"
      },
      "id": "687b4a15-2619-48ef-95d5-47522c82f5e9"
    },
    {
      "cell_type": "code",
      "source": [
        "covidDataFrame['cases'].mean()"
      ],
      "metadata": {
        "trusted": true,
        "id": "d6cc25df-0ed3-4da4-8e46-09957b5ac313",
        "outputId": "7f86e182-2b18-4253-fe47-4de2fe8822d7",
        "colab": {
          "base_uri": "https://localhost:8080/"
        }
      },
      "execution_count": 5,
      "outputs": [
        {
          "output_type": "execute_result",
          "data": {
            "text/plain": [
              "698.5782972688595"
            ]
          },
          "metadata": {},
          "execution_count": 5
        }
      ],
      "id": "d6cc25df-0ed3-4da4-8e46-09957b5ac313"
    },
    {
      "cell_type": "code",
      "source": [
        "np.mean(covidDataFrame['cases'])"
      ],
      "metadata": {
        "trusted": true,
        "id": "12c57f56-a1c8-4c79-b532-29dd214a8ea7",
        "outputId": "e6f5e9dd-1337-401e-9a8e-111f5b655584",
        "colab": {
          "base_uri": "https://localhost:8080/"
        }
      },
      "execution_count": 6,
      "outputs": [
        {
          "output_type": "execute_result",
          "data": {
            "text/plain": [
              "698.5782972688595"
            ]
          },
          "metadata": {},
          "execution_count": 6
        }
      ],
      "id": "12c57f56-a1c8-4c79-b532-29dd214a8ea7"
    },
    {
      "cell_type": "markdown",
      "source": [
        "### 1.2. Trimmed Mean"
      ],
      "metadata": {
        "id": "07dcb42e-ded8-4f53-b41f-84519718c957"
      },
      "id": "07dcb42e-ded8-4f53-b41f-84519718c957"
    },
    {
      "cell_type": "markdown",
      "source": [
        "#### A variation of the mean is a trimmed mean, which you calculate by dropping a fixed number of sorted values at each end and then taking an average of the remaining values. Representing the sorted values by x(1),x(2),...,x(n) where x(1) is the smallest value and x(n) the largest, the formula to compute the trimmed mean with p smallest and largest values omitted is:"
      ],
      "metadata": {
        "id": "22f0ba1e-2445-4c56-9ba7-9930ebbe70b4"
      },
      "id": "22f0ba1e-2445-4c56-9ba7-9930ebbe70b4"
    },
    {
      "cell_type": "markdown",
      "source": [
        "#### A trimmed mean eliminates the influence of extreme values. For example, in international diving the top and bottom scores from five judges are dropped, and the final score is the average of the three remaining judges. This makes it difficult for a single judge to manipulate the score, perhaps to favor his country’s contestant. Trimmed means are widely used, and in many cases, are preferable to use instead of the ordinary mean"
      ],
      "metadata": {
        "id": "e4ec0872-bf28-4e9b-8b29-6111ac850331"
      },
      "id": "e4ec0872-bf28-4e9b-8b29-6111ac850331"
    },
    {
      "cell_type": "code",
      "source": [
        "# Trim off the 20% most extreme scores (lowest and highest)\n",
        "stats.trim_mean(covidDataFrame['cases'], proportiontocut=0.1)"
      ],
      "metadata": {
        "trusted": true,
        "id": "697c6164-0181-4a60-a25c-9fe546b0ebe1",
        "outputId": "0295126a-f0b3-4ba6-ef5e-9f0877e93bac",
        "colab": {
          "base_uri": "https://localhost:8080/"
        }
      },
      "execution_count": 7,
      "outputs": [
        {
          "output_type": "execute_result",
          "data": {
            "text/plain": [
              "89.41374085086916"
            ]
          },
          "metadata": {},
          "execution_count": 7
        }
      ],
      "id": "697c6164-0181-4a60-a25c-9fe546b0ebe1"
    },
    {
      "cell_type": "markdown",
      "source": [
        "### 1.3. Median\n",
        "\n",
        "#### The median is the middle number on a sorted list of the data. If there is an even number of data values, the middle value is one that is not actually in the data set, but rather the average of the two values that divide the sorted data into upper and lower halves. Compared to the mean, which uses all observations, the median depends only on the values in the center of the sorted data. While this might seem to be a disadvantage, since the mean is much more sensitive to the data, there are many instances in which the median is a better metric for location. "
      ],
      "metadata": {
        "id": "20e96420-b594-41ce-af8f-dcf7ee3c19ce"
      },
      "id": "20e96420-b594-41ce-af8f-dcf7ee3c19ce"
    },
    {
      "cell_type": "markdown",
      "source": [
        "#### The median is referred to as a robust estimate of location since it is not influenced by outliers (extreme cases) that could skew the results. An outlier is any value that is very distant from the other values in a data set. The exact definition of an outlier is somewhat subjective, although certain conventions are used in various data summaries and plots.\n",
        "\n",
        "#### Being an outlier in itself does not make a data value invalid or erroneous . Still, outliers are often the result of data errors such as mixing data of different units (kilometers versus meters) or bad readings from a sensor."
      ],
      "metadata": {
        "id": "619044d2-7ab2-4194-8c5a-95055b4cb5d0"
      },
      "id": "619044d2-7ab2-4194-8c5a-95055b4cb5d0"
    },
    {
      "cell_type": "code",
      "source": [
        "covidDataFrame['cases'].median()"
      ],
      "metadata": {
        "trusted": true,
        "id": "67f7cc64-71a1-4ac3-aca0-4a4fc7d44d89",
        "outputId": "fbdb5357-293d-41f0-acbd-8227e106e57f"
      },
      "execution_count": null,
      "outputs": [
        {
          "execution_count": 7,
          "output_type": "execute_result",
          "data": {
            "text/plain": "9.0"
          },
          "metadata": {}
        }
      ],
      "id": "67f7cc64-71a1-4ac3-aca0-4a4fc7d44d89"
    },
    {
      "cell_type": "code",
      "source": [
        "np.median(covidDataFrame['cases'])"
      ],
      "metadata": {
        "trusted": true,
        "id": "fdd60199-b458-49ef-b086-4fba95eb1734",
        "outputId": "67d3897d-0ca3-402a-8370-69271890441f"
      },
      "execution_count": null,
      "outputs": [
        {
          "execution_count": 8,
          "output_type": "execute_result",
          "data": {
            "text/plain": "9.0"
          },
          "metadata": {}
        }
      ],
      "id": "fdd60199-b458-49ef-b086-4fba95eb1734"
    },
    {
      "cell_type": "markdown",
      "source": [
        "### 2. Estimates of Variability\n",
        "#### Location is just one dimension in summarizing a feature. A second dimension, variability, also referred to as dispersion, measures whether the data values are tightly clustered or spread out. At the heart of statistics lies variability: measuring it, reducing it, distinguishing random from real variability, identifying the various sources of real variability, and making decisions in the presence of it."
      ],
      "metadata": {
        "id": "497d4227-8a59-4cac-9866-9fcbd6e78e56"
      },
      "id": "497d4227-8a59-4cac-9866-9fcbd6e78e56"
    },
    {
      "cell_type": "markdown",
      "source": [
        "### 2.1. Standard Deviation and Related Estimates\n",
        "#### The most widely used estimates of variation are based on the differences, or deviations, between the estimate of location and the observed data. For a set of data {1, 4, 4}, the mean is 3 and the median is 4. The deviations from the mean are the differences: 1 – 3 = –2, 4 – 3 = 1 , 4 – 3 = 1. These deviations tell us how dispersed the data is around the central value.\n",
        "\n",
        "#### The best-known estimates for variability are the variance and the standard deviation, which are based on squared deviations. The variance is an average of the squared deviations, and the standard deviation is the square root of the variance.\n"
      ],
      "metadata": {
        "id": "70925fa0-0d49-4b9d-bdf5-5a90debcdc65"
      },
      "id": "70925fa0-0d49-4b9d-bdf5-5a90debcdc65"
    },
    {
      "cell_type": "markdown",
      "source": [
        "#### there are several alternatives to compute the variance and standard deviation of a variable in Python: \n",
        "1. use the numpy module\n",
        "2. use the pandas module\n"
      ],
      "metadata": {
        "id": "8298d176-ea07-4746-bed7-13f43b28fd17"
      },
      "id": "8298d176-ea07-4746-bed7-13f43b28fd17"
    },
    {
      "cell_type": "code",
      "source": [
        "covidDataFrame['cases'].var()"
      ],
      "metadata": {
        "trusted": true,
        "id": "274d10af-3156-45e3-b786-5cea92374ab5",
        "outputId": "6329f0f0-f398-4513-fb9a-f7aecbc4d740",
        "colab": {
          "base_uri": "https://localhost:8080/"
        }
      },
      "execution_count": 8,
      "outputs": [
        {
          "output_type": "execute_result",
          "data": {
            "text/plain": [
              "18942995.121199723"
            ]
          },
          "metadata": {},
          "execution_count": 8
        }
      ],
      "id": "274d10af-3156-45e3-b786-5cea92374ab5"
    },
    {
      "cell_type": "code",
      "source": [
        "np.var(covidDataFrame['cases'])"
      ],
      "metadata": {
        "trusted": true,
        "id": "a40d2cca-507e-49db-a911-73ee7a52be7a",
        "outputId": "c1b5f16e-20e1-4992-df5f-6c4295de12a6",
        "colab": {
          "base_uri": "https://localhost:8080/"
        }
      },
      "execution_count": 9,
      "outputs": [
        {
          "output_type": "execute_result",
          "data": {
            "text/plain": [
              "18942561.821526334"
            ]
          },
          "metadata": {},
          "execution_count": 9
        }
      ],
      "id": "a40d2cca-507e-49db-a911-73ee7a52be7a"
    },
    {
      "cell_type": "code",
      "source": [
        "covidDataFrame['cases'].std()"
      ],
      "metadata": {
        "trusted": true,
        "id": "237bafea-5a5a-4100-98d7-95e2ae9fabfe",
        "outputId": "a21470ec-b28c-4d00-c192-e094f94faeae",
        "colab": {
          "base_uri": "https://localhost:8080/"
        }
      },
      "execution_count": 10,
      "outputs": [
        {
          "output_type": "execute_result",
          "data": {
            "text/plain": [
              "4352.3551235164305"
            ]
          },
          "metadata": {},
          "execution_count": 10
        }
      ],
      "id": "237bafea-5a5a-4100-98d7-95e2ae9fabfe"
    },
    {
      "cell_type": "code",
      "source": [
        "np.std(covidDataFrame['cases'])"
      ],
      "metadata": {
        "trusted": true,
        "id": "9b00e5ce-19e8-452f-acb7-32fa57b98d3b",
        "outputId": "354341ba-fadf-4333-a4c0-6101a196d4f8",
        "colab": {
          "base_uri": "https://localhost:8080/"
        }
      },
      "execution_count": 11,
      "outputs": [
        {
          "output_type": "execute_result",
          "data": {
            "text/plain": [
              "4352.305345621598"
            ]
          },
          "metadata": {},
          "execution_count": 11
        }
      ],
      "id": "9b00e5ce-19e8-452f-acb7-32fa57b98d3b"
    },
    {
      "cell_type": "markdown",
      "source": [
        "### 3. Skewness and Kurtosis\n",
        "#### A fundamental task in many statistical analyses is to characterize the location and variability of a data set. A further characterization of the data includes skewness and kurtosis.\n",
        "#### Skewness is a measure of symmetry, or more precisely, the lack of symmetry. A distribution, or data set, is symmetric if it looks the same to the left and right of the center point.\n",
        "\n",
        "#### Kurtosis is a measure of whether the data are heavy-tailed or light-tailed relative to a normal distribution. That is, data sets with high kurtosis tend to have heavy tails. Data sets with low kurtosis tend to have light tails."
      ],
      "metadata": {
        "id": "0c0a2f6f-60f0-441d-baf5-b73001e304f2"
      },
      "id": "0c0a2f6f-60f0-441d-baf5-b73001e304f2"
    },
    {
      "cell_type": "code",
      "source": [
        "covidDataFrame['cases'].skew()"
      ],
      "metadata": {
        "trusted": true,
        "id": "6d891990-4da7-425d-8158-d92c5f52ac57",
        "outputId": "b05d0b93-3f7a-48d3-c7c5-fca4a5014285"
      },
      "execution_count": null,
      "outputs": [
        {
          "execution_count": 15,
          "output_type": "execute_result",
          "data": {
            "text/plain": "12.440644089924893"
          },
          "metadata": {}
        }
      ],
      "id": "6d891990-4da7-425d-8158-d92c5f52ac57"
    },
    {
      "cell_type": "code",
      "source": [
        "sp.stats.skew(covidDataFrame['cases'])"
      ],
      "metadata": {
        "trusted": true,
        "id": "a62576e7-48ed-4d6e-ac4b-2ca2040c4bc2",
        "outputId": "8f6dafbc-2d09-4022-f033-6c6480d17588"
      },
      "execution_count": null,
      "outputs": [
        {
          "execution_count": 16,
          "output_type": "execute_result",
          "data": {
            "text/plain": "12.440217237278587"
          },
          "metadata": {}
        }
      ],
      "id": "a62576e7-48ed-4d6e-ac4b-2ca2040c4bc2"
    },
    {
      "cell_type": "code",
      "source": [
        "covidDataFrame['cases'].kurtosis()"
      ],
      "metadata": {
        "trusted": true,
        "id": "43693e8f-2477-4662-8328-8524252845c0",
        "outputId": "378859ce-2ae7-4714-9158-78c5da09cb37"
      },
      "execution_count": null,
      "outputs": [
        {
          "execution_count": 17,
          "output_type": "execute_result",
          "data": {
            "text/plain": "183.35891066556854"
          },
          "metadata": {}
        }
      ],
      "id": "43693e8f-2477-4662-8328-8524252845c0"
    },
    {
      "cell_type": "code",
      "source": [
        "sp.stats.kurtosis(covidDataFrame['cases'])"
      ],
      "metadata": {
        "trusted": true,
        "id": "15817830-f32f-4af9-b407-fedbc5a64112",
        "outputId": "24a38ce7-15c6-42f0-b2b8-3fe32aff6176"
      },
      "execution_count": null,
      "outputs": [
        {
          "execution_count": 18,
          "output_type": "execute_result",
          "data": {
            "text/plain": "183.33780345440454"
          },
          "metadata": {}
        }
      ],
      "id": "15817830-f32f-4af9-b407-fedbc5a64112"
    },
    {
      "cell_type": "markdown",
      "source": [
        "#### Pandas provides the method pd.describe() which is quite convenient to compute location and variability estimates."
      ],
      "metadata": {
        "id": "i1I1WS4OhrcZ"
      },
      "id": "i1I1WS4OhrcZ"
    },
    {
      "cell_type": "code",
      "source": [
        "covidDataFrame.describe()"
      ],
      "metadata": {
        "id": "78bb689e-7d4a-4718-a8c2-7f9555eedeaf",
        "colab": {
          "base_uri": "https://localhost:8080/",
          "height": 300
        },
        "outputId": "94d9b2b5-6b2d-41f7-821d-6cf826e7f32e"
      },
      "execution_count": 14,
      "outputs": [
        {
          "output_type": "execute_result",
          "data": {
            "text/plain": [
              "                day         month          year         cases        deaths  \\\n",
              "count  43718.000000  43718.000000  43718.000000  43718.000000  43718.000000   \n",
              "mean      15.646919      5.618990   2019.998467    698.578297     21.792488   \n",
              "std        8.776722      2.206138      0.039118   4352.355124    126.490919   \n",
              "min        1.000000      1.000000   2019.000000  -8261.000000  -1918.000000   \n",
              "25%        8.000000      4.000000   2020.000000      0.000000      0.000000   \n",
              "50%       16.000000      6.000000   2020.000000      9.000000      0.000000   \n",
              "75%       23.000000      7.000000   2020.000000    150.000000      3.000000   \n",
              "max       31.000000     12.000000   2020.000000  97894.000000   4928.000000   \n",
              "\n",
              "        popData2019  \\\n",
              "count  4.365400e+04   \n",
              "mean   4.287054e+07   \n",
              "std    1.578720e+08   \n",
              "min    8.150000e+02   \n",
              "25%    1.355982e+06   \n",
              "50%    8.082359e+06   \n",
              "75%    2.916192e+07   \n",
              "max    1.433784e+09   \n",
              "\n",
              "       Cumulative_number_for_14_days_of_COVID-19_cases_per_100000  \n",
              "count                                       40937.000000           \n",
              "mean                                           33.001167           \n",
              "std                                            76.067751           \n",
              "min                                          -147.419587           \n",
              "25%                                             0.370634           \n",
              "50%                                             4.571738           \n",
              "75%                                            26.575105           \n",
              "max                                          1058.225943           "
            ],
            "text/html": [
              "\n",
              "  <div id=\"df-04f08a44-8011-48d2-9466-6460a179bd71\">\n",
              "    <div class=\"colab-df-container\">\n",
              "      <div>\n",
              "<style scoped>\n",
              "    .dataframe tbody tr th:only-of-type {\n",
              "        vertical-align: middle;\n",
              "    }\n",
              "\n",
              "    .dataframe tbody tr th {\n",
              "        vertical-align: top;\n",
              "    }\n",
              "\n",
              "    .dataframe thead th {\n",
              "        text-align: right;\n",
              "    }\n",
              "</style>\n",
              "<table border=\"1\" class=\"dataframe\">\n",
              "  <thead>\n",
              "    <tr style=\"text-align: right;\">\n",
              "      <th></th>\n",
              "      <th>day</th>\n",
              "      <th>month</th>\n",
              "      <th>year</th>\n",
              "      <th>cases</th>\n",
              "      <th>deaths</th>\n",
              "      <th>popData2019</th>\n",
              "      <th>Cumulative_number_for_14_days_of_COVID-19_cases_per_100000</th>\n",
              "    </tr>\n",
              "  </thead>\n",
              "  <tbody>\n",
              "    <tr>\n",
              "      <th>count</th>\n",
              "      <td>43718.000000</td>\n",
              "      <td>43718.000000</td>\n",
              "      <td>43718.000000</td>\n",
              "      <td>43718.000000</td>\n",
              "      <td>43718.000000</td>\n",
              "      <td>4.365400e+04</td>\n",
              "      <td>40937.000000</td>\n",
              "    </tr>\n",
              "    <tr>\n",
              "      <th>mean</th>\n",
              "      <td>15.646919</td>\n",
              "      <td>5.618990</td>\n",
              "      <td>2019.998467</td>\n",
              "      <td>698.578297</td>\n",
              "      <td>21.792488</td>\n",
              "      <td>4.287054e+07</td>\n",
              "      <td>33.001167</td>\n",
              "    </tr>\n",
              "    <tr>\n",
              "      <th>std</th>\n",
              "      <td>8.776722</td>\n",
              "      <td>2.206138</td>\n",
              "      <td>0.039118</td>\n",
              "      <td>4352.355124</td>\n",
              "      <td>126.490919</td>\n",
              "      <td>1.578720e+08</td>\n",
              "      <td>76.067751</td>\n",
              "    </tr>\n",
              "    <tr>\n",
              "      <th>min</th>\n",
              "      <td>1.000000</td>\n",
              "      <td>1.000000</td>\n",
              "      <td>2019.000000</td>\n",
              "      <td>-8261.000000</td>\n",
              "      <td>-1918.000000</td>\n",
              "      <td>8.150000e+02</td>\n",
              "      <td>-147.419587</td>\n",
              "    </tr>\n",
              "    <tr>\n",
              "      <th>25%</th>\n",
              "      <td>8.000000</td>\n",
              "      <td>4.000000</td>\n",
              "      <td>2020.000000</td>\n",
              "      <td>0.000000</td>\n",
              "      <td>0.000000</td>\n",
              "      <td>1.355982e+06</td>\n",
              "      <td>0.370634</td>\n",
              "    </tr>\n",
              "    <tr>\n",
              "      <th>50%</th>\n",
              "      <td>16.000000</td>\n",
              "      <td>6.000000</td>\n",
              "      <td>2020.000000</td>\n",
              "      <td>9.000000</td>\n",
              "      <td>0.000000</td>\n",
              "      <td>8.082359e+06</td>\n",
              "      <td>4.571738</td>\n",
              "    </tr>\n",
              "    <tr>\n",
              "      <th>75%</th>\n",
              "      <td>23.000000</td>\n",
              "      <td>7.000000</td>\n",
              "      <td>2020.000000</td>\n",
              "      <td>150.000000</td>\n",
              "      <td>3.000000</td>\n",
              "      <td>2.916192e+07</td>\n",
              "      <td>26.575105</td>\n",
              "    </tr>\n",
              "    <tr>\n",
              "      <th>max</th>\n",
              "      <td>31.000000</td>\n",
              "      <td>12.000000</td>\n",
              "      <td>2020.000000</td>\n",
              "      <td>97894.000000</td>\n",
              "      <td>4928.000000</td>\n",
              "      <td>1.433784e+09</td>\n",
              "      <td>1058.225943</td>\n",
              "    </tr>\n",
              "  </tbody>\n",
              "</table>\n",
              "</div>\n",
              "      <button class=\"colab-df-convert\" onclick=\"convertToInteractive('df-04f08a44-8011-48d2-9466-6460a179bd71')\"\n",
              "              title=\"Convert this dataframe to an interactive table.\"\n",
              "              style=\"display:none;\">\n",
              "        \n",
              "  <svg xmlns=\"http://www.w3.org/2000/svg\" height=\"24px\"viewBox=\"0 0 24 24\"\n",
              "       width=\"24px\">\n",
              "    <path d=\"M0 0h24v24H0V0z\" fill=\"none\"/>\n",
              "    <path d=\"M18.56 5.44l.94 2.06.94-2.06 2.06-.94-2.06-.94-.94-2.06-.94 2.06-2.06.94zm-11 1L8.5 8.5l.94-2.06 2.06-.94-2.06-.94L8.5 2.5l-.94 2.06-2.06.94zm10 10l.94 2.06.94-2.06 2.06-.94-2.06-.94-.94-2.06-.94 2.06-2.06.94z\"/><path d=\"M17.41 7.96l-1.37-1.37c-.4-.4-.92-.59-1.43-.59-.52 0-1.04.2-1.43.59L10.3 9.45l-7.72 7.72c-.78.78-.78 2.05 0 2.83L4 21.41c.39.39.9.59 1.41.59.51 0 1.02-.2 1.41-.59l7.78-7.78 2.81-2.81c.8-.78.8-2.07 0-2.86zM5.41 20L4 18.59l7.72-7.72 1.47 1.35L5.41 20z\"/>\n",
              "  </svg>\n",
              "      </button>\n",
              "      \n",
              "  <style>\n",
              "    .colab-df-container {\n",
              "      display:flex;\n",
              "      flex-wrap:wrap;\n",
              "      gap: 12px;\n",
              "    }\n",
              "\n",
              "    .colab-df-convert {\n",
              "      background-color: #E8F0FE;\n",
              "      border: none;\n",
              "      border-radius: 50%;\n",
              "      cursor: pointer;\n",
              "      display: none;\n",
              "      fill: #1967D2;\n",
              "      height: 32px;\n",
              "      padding: 0 0 0 0;\n",
              "      width: 32px;\n",
              "    }\n",
              "\n",
              "    .colab-df-convert:hover {\n",
              "      background-color: #E2EBFA;\n",
              "      box-shadow: 0px 1px 2px rgba(60, 64, 67, 0.3), 0px 1px 3px 1px rgba(60, 64, 67, 0.15);\n",
              "      fill: #174EA6;\n",
              "    }\n",
              "\n",
              "    [theme=dark] .colab-df-convert {\n",
              "      background-color: #3B4455;\n",
              "      fill: #D2E3FC;\n",
              "    }\n",
              "\n",
              "    [theme=dark] .colab-df-convert:hover {\n",
              "      background-color: #434B5C;\n",
              "      box-shadow: 0px 1px 3px 1px rgba(0, 0, 0, 0.15);\n",
              "      filter: drop-shadow(0px 1px 2px rgba(0, 0, 0, 0.3));\n",
              "      fill: #FFFFFF;\n",
              "    }\n",
              "  </style>\n",
              "\n",
              "      <script>\n",
              "        const buttonEl =\n",
              "          document.querySelector('#df-04f08a44-8011-48d2-9466-6460a179bd71 button.colab-df-convert');\n",
              "        buttonEl.style.display =\n",
              "          google.colab.kernel.accessAllowed ? 'block' : 'none';\n",
              "\n",
              "        async function convertToInteractive(key) {\n",
              "          const element = document.querySelector('#df-04f08a44-8011-48d2-9466-6460a179bd71');\n",
              "          const dataTable =\n",
              "            await google.colab.kernel.invokeFunction('convertToInteractive',\n",
              "                                                     [key], {});\n",
              "          if (!dataTable) return;\n",
              "\n",
              "          const docLinkHtml = 'Like what you see? Visit the ' +\n",
              "            '<a target=\"_blank\" href=https://colab.research.google.com/notebooks/data_table.ipynb>data table notebook</a>'\n",
              "            + ' to learn more about interactive tables.';\n",
              "          element.innerHTML = '';\n",
              "          dataTable['output_type'] = 'display_data';\n",
              "          await google.colab.output.renderOutput(dataTable, element);\n",
              "          const docLink = document.createElement('div');\n",
              "          docLink.innerHTML = docLinkHtml;\n",
              "          element.appendChild(docLink);\n",
              "        }\n",
              "      </script>\n",
              "    </div>\n",
              "  </div>\n",
              "  "
            ]
          },
          "metadata": {},
          "execution_count": 14
        }
      ],
      "id": "78bb689e-7d4a-4718-a8c2-7f9555eedeaf"
    },
    {
      "cell_type": "code",
      "source": [],
      "metadata": {
        "id": "1bQtkMUPho9c"
      },
      "id": "1bQtkMUPho9c",
      "execution_count": null,
      "outputs": []
    }
  ]
}